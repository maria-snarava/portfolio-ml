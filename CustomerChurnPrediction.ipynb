{
  "cells": [
    {
      "cell_type": "markdown",
      "metadata": {
        "id": "view-in-github",
        "colab_type": "text"
      },
      "source": [
        "<a href=\"https://colab.research.google.com/github/maria-snarava/portfolio-ml/blob/fixes/CustomerChurnPrediction.ipynb\" target=\"_parent\"><img src=\"https://colab.research.google.com/assets/colab-badge.svg\" alt=\"Open In Colab\"/></a>"
      ]
    },
    {
      "cell_type": "markdown",
      "id": "721a105e",
      "metadata": {
        "id": "721a105e"
      },
      "source": [
        "# Customer Churn Prediction\n",
        "\n",
        "**Developed by Maryia Snarava**\n",
        "\n",
        "This Jupyter notebook demonstrates the process of predicting customer churn using machine learning techniques. **Customer churn** is when customers stop doing business with a company. Predicting churn can help businesses take proactive steps to retain customers. Throughout this notebook, we'll go through the entire machine learning pipeline, including data exploration, data preprocessing, feature engineering, model training, and evaluation.\n",
        "\n",
        " My approach is as follows:\n",
        "\n",
        "1. I'll start with Logistic Regression as our baseline model. Logistic Regression is a simple yet powerful algorithm for binary classification problems like churn prediction. It's a great starting point as it's easy to implement and interpret.\n",
        "\n",
        "2. Using Logistic Regression, I've achieved an accuracy of 81,5% in predicting customer churn. This serves as our baseline performance.\n",
        "\n",
        "3. Then, using feature selection, I've achieved an accuracy of 84,6% in predicting customer churn.\n",
        "\n",
        "4. Then I did Hyperparameter Tuning using  grid search and have achieved an accuracy of 85%.\n",
        "\n",
        "3. Then I experimented with more advanced algorithms to improve upon this baseline:\n",
        "   - Random Forests\n",
        "   - Gradient Boosting Machines (like XGBoost or LightGBM)\n",
        "   - Neural Networks\n",
        "\n",
        "By comparing these more complex models to our Logistic Regression baseline, I'll be able to assess the trade-off between model complexity and performance improvement.\n",
        "\n",
        "\n",
        "For this notebook I used a dataset from Kaggle. You can find the dataset [here](https://www.kaggle.com/datasets/ankitverma2010/ecommerce-customer-churn-analysis-and-prediction).\n",
        "\n",
        "\n",
        "## Contents:\n",
        "\n",
        "1. [**Introduction**](#Introduction)\n",
        "\n",
        "   - What is Customer Churn?\n",
        "   - Importance of Predicting Churn\n",
        "  \n",
        "\n",
        "2. [**Data Loading and Exploration**](#DataLoading)\n",
        "   - Loading the customer dataset\n",
        "   - Data Variable Description\n",
        "   - Show values on each column\n",
        "   - Handling Missing Values\n",
        "\n",
        "\n",
        "3. [**Data Preprocessing**](#DataPreprocessing)\n",
        "   - Feature selection\n",
        "   - Feature Engineering - Adding new variables\n",
        "   - Scaling numerical features\n",
        "   - Checking imbalance\n",
        "\n",
        "4. [**Model Building**](#ModelBuilding)\n",
        "   - Splitting data into training and testing sets\n",
        "   - Implementing logistic regression\n",
        "   - Model training\n",
        "\n",
        "5. [**Model Evaluation**](#ModelEvaluation)\n",
        "   - Predictions on test data\n",
        "   - Calculating accuracy, precision, recall, and F1-score\n",
        "   - Plotting ROC curve\n",
        "\n",
        "6. [**Conclusion and Next Steps**](#Conclusion)\n",
        "    - Summary of Results\n",
        "    - Interpretation\n",
        "    - Limitations\n",
        "    - Next Steps"
      ]
    },
    {
      "cell_type": "markdown",
      "id": "fc6ea992",
      "metadata": {
        "id": "fc6ea992"
      },
      "source": [
        "## 1. Introduction\n",
        "\n",
        "\n",
        "### What is Customer Churn?\n",
        "\n",
        "Customer churn, also known as customer attrition, refers to the phenomenon where customers stop doing business with a company. In the context of this analysis:\n",
        "\n",
        "- Churn occurs when a customer cancels their service or stops using a product.\n",
        "- It's a critical metric for businesses, especially in subscription-based models.\n",
        "- High churn rates can significantly impact a company's revenue and growth.\n",
        "\n",
        "### Importance of Predicting Churn\n",
        "\n",
        "Understanding and predicting churn is crucial for businesses because:\n",
        "\n",
        "- It's more cost-effective to retain existing customers than to acquire new ones.\n",
        "- Early identification of potential churners allows for targeted retention efforts.\n",
        "- Reducing churn rate directly impacts the company's bottom line.\n",
        "- It provides insights into product or service issues that may be causing customer dissatisfaction."
      ]
    },
    {
      "cell_type": "markdown",
      "id": "24aaa7a2",
      "metadata": {
        "id": "24aaa7a2"
      },
      "source": [
        "## 2. Data Loading and Exploration\n",
        "\n",
        "Here, I'll get a better understanding of dataset. First, I load the customer dataset:"
      ]
    },
    {
      "cell_type": "code",
      "source": [
        "from google.colab import drive\n",
        "drive.mount('/content/drive')"
      ],
      "metadata": {
        "colab": {
          "base_uri": "https://localhost:8080/"
        },
        "id": "mvT4kMtKGRBa",
        "outputId": "55faeb1f-8352-4528-92e8-d0514d3b1403"
      },
      "id": "mvT4kMtKGRBa",
      "execution_count": 129,
      "outputs": [
        {
          "output_type": "stream",
          "name": "stdout",
          "text": [
            "Drive already mounted at /content/drive; to attempt to forcibly remount, call drive.mount(\"/content/drive\", force_remount=True).\n"
          ]
        }
      ]
    },
    {
      "cell_type": "code",
      "execution_count": 130,
      "id": "e8d395ad",
      "metadata": {
        "id": "e8d395ad"
      },
      "outputs": [],
      "source": [
        "import pandas as pd\n",
        "RANDOM_STATE = 42\n",
        "\n",
        "df = pd.read_excel('/content/drive/MyDrive/Colab Notebooks/data/ECommerceDataset.xlsx', sheet_name='E Comm')"
      ]
    },
    {
      "cell_type": "markdown",
      "id": "9a8f4fcf",
      "metadata": {
        "id": "9a8f4fcf"
      },
      "source": [
        "### Data Variable Description\n",
        "| Column Name | Description |\n",
        "|----|----|\n",
        "| **CustomerID** | Unique customer ID |\n",
        "| **Churn** | Churn Flag |\n",
        "| **Tenure** | Tenure of customer in organization  |\n",
        "| **PreferredLoginDevice** | Preferred login device of customer |\n",
        "| **CityTier** | City tier |\n",
        "| **WarehouseToHome**| Distance in between warehouse to home of customer |\n",
        "| **PreferredPaymentMode** | Preferred payment method of customer |\n",
        "| **Gender** | Gender of customer |\n",
        "| **HourSpendOnApp** | Number of hours spend on mobile application or website |\n",
        "| **NumberOfDeviceRegistered** | Total number of deceives is registered on particular customer |\n",
        "| **PreferedOrderCat** | Preferred order category of customer in last month |\n",
        "| **SatisfactionScore** | Satisfactory score of customer on service |\n",
        "| **MaritalStatus** | Marital status of customer |\n",
        "| **NumberOfAddress** | Total number of added added on particular customer |\n",
        "| **Complain** | Any complaint has been raised in last month |\n",
        "| **OrderAmountHikeFromlastYear** | Percentage increases in order from last year |\n",
        "| **CouponUsed** | Total number of coupon has been used in last month |\n",
        "| **OrderCount** | Total number of orders has been places in last month |\n",
        "| **DaySinceLastOrder** | Day Since last order by customer |\n",
        "| **CashbackAmount** | Average cashback in last month |"
      ]
    },
    {
      "cell_type": "code",
      "execution_count": 131,
      "id": "6f63520f",
      "metadata": {
        "id": "6f63520f",
        "outputId": "42fbb7ac-c37f-493f-b9d9-a555cb258a7e",
        "colab": {
          "base_uri": "https://localhost:8080/",
          "height": 226
        }
      },
      "outputs": [
        {
          "output_type": "execute_result",
          "data": {
            "text/plain": [
              "   CustomerID  Churn  Tenure PreferredLoginDevice  CityTier  WarehouseToHome  \\\n",
              "0       50001      1     4.0         Mobile Phone         3              6.0   \n",
              "1       50002      1     NaN                Phone         1              8.0   \n",
              "2       50003      1     NaN                Phone         1             30.0   \n",
              "3       50004      1     0.0                Phone         3             15.0   \n",
              "4       50005      1     0.0                Phone         1             12.0   \n",
              "\n",
              "  PreferredPaymentMode  Gender  HourSpendOnApp  NumberOfDeviceRegistered  \\\n",
              "0           Debit Card  Female             3.0                         3   \n",
              "1                  UPI    Male             3.0                         4   \n",
              "2           Debit Card    Male             2.0                         4   \n",
              "3           Debit Card    Male             2.0                         4   \n",
              "4                   CC    Male             NaN                         3   \n",
              "\n",
              "     PreferedOrderCat  SatisfactionScore MaritalStatus  NumberOfAddress  \\\n",
              "0  Laptop & Accessory                  2        Single                9   \n",
              "1              Mobile                  3        Single                7   \n",
              "2              Mobile                  3        Single                6   \n",
              "3  Laptop & Accessory                  5        Single                8   \n",
              "4              Mobile                  5        Single                3   \n",
              "\n",
              "   Complain  OrderAmountHikeFromlastYear  CouponUsed  OrderCount  \\\n",
              "0         1                         11.0         1.0         1.0   \n",
              "1         1                         15.0         0.0         1.0   \n",
              "2         1                         14.0         0.0         1.0   \n",
              "3         0                         23.0         0.0         1.0   \n",
              "4         0                         11.0         1.0         1.0   \n",
              "\n",
              "   DaySinceLastOrder  CashbackAmount  \n",
              "0                5.0          159.93  \n",
              "1                0.0          120.90  \n",
              "2                3.0          120.28  \n",
              "3                3.0          134.07  \n",
              "4                3.0          129.60  "
            ],
            "text/html": [
              "\n",
              "  <div id=\"df-4576c15d-c46d-49dd-b657-25699b183677\" class=\"colab-df-container\">\n",
              "    <div>\n",
              "<style scoped>\n",
              "    .dataframe tbody tr th:only-of-type {\n",
              "        vertical-align: middle;\n",
              "    }\n",
              "\n",
              "    .dataframe tbody tr th {\n",
              "        vertical-align: top;\n",
              "    }\n",
              "\n",
              "    .dataframe thead th {\n",
              "        text-align: right;\n",
              "    }\n",
              "</style>\n",
              "<table border=\"1\" class=\"dataframe\">\n",
              "  <thead>\n",
              "    <tr style=\"text-align: right;\">\n",
              "      <th></th>\n",
              "      <th>CustomerID</th>\n",
              "      <th>Churn</th>\n",
              "      <th>Tenure</th>\n",
              "      <th>PreferredLoginDevice</th>\n",
              "      <th>CityTier</th>\n",
              "      <th>WarehouseToHome</th>\n",
              "      <th>PreferredPaymentMode</th>\n",
              "      <th>Gender</th>\n",
              "      <th>HourSpendOnApp</th>\n",
              "      <th>NumberOfDeviceRegistered</th>\n",
              "      <th>PreferedOrderCat</th>\n",
              "      <th>SatisfactionScore</th>\n",
              "      <th>MaritalStatus</th>\n",
              "      <th>NumberOfAddress</th>\n",
              "      <th>Complain</th>\n",
              "      <th>OrderAmountHikeFromlastYear</th>\n",
              "      <th>CouponUsed</th>\n",
              "      <th>OrderCount</th>\n",
              "      <th>DaySinceLastOrder</th>\n",
              "      <th>CashbackAmount</th>\n",
              "    </tr>\n",
              "  </thead>\n",
              "  <tbody>\n",
              "    <tr>\n",
              "      <th>0</th>\n",
              "      <td>50001</td>\n",
              "      <td>1</td>\n",
              "      <td>4.0</td>\n",
              "      <td>Mobile Phone</td>\n",
              "      <td>3</td>\n",
              "      <td>6.0</td>\n",
              "      <td>Debit Card</td>\n",
              "      <td>Female</td>\n",
              "      <td>3.0</td>\n",
              "      <td>3</td>\n",
              "      <td>Laptop &amp; Accessory</td>\n",
              "      <td>2</td>\n",
              "      <td>Single</td>\n",
              "      <td>9</td>\n",
              "      <td>1</td>\n",
              "      <td>11.0</td>\n",
              "      <td>1.0</td>\n",
              "      <td>1.0</td>\n",
              "      <td>5.0</td>\n",
              "      <td>159.93</td>\n",
              "    </tr>\n",
              "    <tr>\n",
              "      <th>1</th>\n",
              "      <td>50002</td>\n",
              "      <td>1</td>\n",
              "      <td>NaN</td>\n",
              "      <td>Phone</td>\n",
              "      <td>1</td>\n",
              "      <td>8.0</td>\n",
              "      <td>UPI</td>\n",
              "      <td>Male</td>\n",
              "      <td>3.0</td>\n",
              "      <td>4</td>\n",
              "      <td>Mobile</td>\n",
              "      <td>3</td>\n",
              "      <td>Single</td>\n",
              "      <td>7</td>\n",
              "      <td>1</td>\n",
              "      <td>15.0</td>\n",
              "      <td>0.0</td>\n",
              "      <td>1.0</td>\n",
              "      <td>0.0</td>\n",
              "      <td>120.90</td>\n",
              "    </tr>\n",
              "    <tr>\n",
              "      <th>2</th>\n",
              "      <td>50003</td>\n",
              "      <td>1</td>\n",
              "      <td>NaN</td>\n",
              "      <td>Phone</td>\n",
              "      <td>1</td>\n",
              "      <td>30.0</td>\n",
              "      <td>Debit Card</td>\n",
              "      <td>Male</td>\n",
              "      <td>2.0</td>\n",
              "      <td>4</td>\n",
              "      <td>Mobile</td>\n",
              "      <td>3</td>\n",
              "      <td>Single</td>\n",
              "      <td>6</td>\n",
              "      <td>1</td>\n",
              "      <td>14.0</td>\n",
              "      <td>0.0</td>\n",
              "      <td>1.0</td>\n",
              "      <td>3.0</td>\n",
              "      <td>120.28</td>\n",
              "    </tr>\n",
              "    <tr>\n",
              "      <th>3</th>\n",
              "      <td>50004</td>\n",
              "      <td>1</td>\n",
              "      <td>0.0</td>\n",
              "      <td>Phone</td>\n",
              "      <td>3</td>\n",
              "      <td>15.0</td>\n",
              "      <td>Debit Card</td>\n",
              "      <td>Male</td>\n",
              "      <td>2.0</td>\n",
              "      <td>4</td>\n",
              "      <td>Laptop &amp; Accessory</td>\n",
              "      <td>5</td>\n",
              "      <td>Single</td>\n",
              "      <td>8</td>\n",
              "      <td>0</td>\n",
              "      <td>23.0</td>\n",
              "      <td>0.0</td>\n",
              "      <td>1.0</td>\n",
              "      <td>3.0</td>\n",
              "      <td>134.07</td>\n",
              "    </tr>\n",
              "    <tr>\n",
              "      <th>4</th>\n",
              "      <td>50005</td>\n",
              "      <td>1</td>\n",
              "      <td>0.0</td>\n",
              "      <td>Phone</td>\n",
              "      <td>1</td>\n",
              "      <td>12.0</td>\n",
              "      <td>CC</td>\n",
              "      <td>Male</td>\n",
              "      <td>NaN</td>\n",
              "      <td>3</td>\n",
              "      <td>Mobile</td>\n",
              "      <td>5</td>\n",
              "      <td>Single</td>\n",
              "      <td>3</td>\n",
              "      <td>0</td>\n",
              "      <td>11.0</td>\n",
              "      <td>1.0</td>\n",
              "      <td>1.0</td>\n",
              "      <td>3.0</td>\n",
              "      <td>129.60</td>\n",
              "    </tr>\n",
              "  </tbody>\n",
              "</table>\n",
              "</div>\n",
              "    <div class=\"colab-df-buttons\">\n",
              "\n",
              "  <div class=\"colab-df-container\">\n",
              "    <button class=\"colab-df-convert\" onclick=\"convertToInteractive('df-4576c15d-c46d-49dd-b657-25699b183677')\"\n",
              "            title=\"Convert this dataframe to an interactive table.\"\n",
              "            style=\"display:none;\">\n",
              "\n",
              "  <svg xmlns=\"http://www.w3.org/2000/svg\" height=\"24px\" viewBox=\"0 -960 960 960\">\n",
              "    <path d=\"M120-120v-720h720v720H120Zm60-500h600v-160H180v160Zm220 220h160v-160H400v160Zm0 220h160v-160H400v160ZM180-400h160v-160H180v160Zm440 0h160v-160H620v160ZM180-180h160v-160H180v160Zm440 0h160v-160H620v160Z\"/>\n",
              "  </svg>\n",
              "    </button>\n",
              "\n",
              "  <style>\n",
              "    .colab-df-container {\n",
              "      display:flex;\n",
              "      gap: 12px;\n",
              "    }\n",
              "\n",
              "    .colab-df-convert {\n",
              "      background-color: #E8F0FE;\n",
              "      border: none;\n",
              "      border-radius: 50%;\n",
              "      cursor: pointer;\n",
              "      display: none;\n",
              "      fill: #1967D2;\n",
              "      height: 32px;\n",
              "      padding: 0 0 0 0;\n",
              "      width: 32px;\n",
              "    }\n",
              "\n",
              "    .colab-df-convert:hover {\n",
              "      background-color: #E2EBFA;\n",
              "      box-shadow: 0px 1px 2px rgba(60, 64, 67, 0.3), 0px 1px 3px 1px rgba(60, 64, 67, 0.15);\n",
              "      fill: #174EA6;\n",
              "    }\n",
              "\n",
              "    .colab-df-buttons div {\n",
              "      margin-bottom: 4px;\n",
              "    }\n",
              "\n",
              "    [theme=dark] .colab-df-convert {\n",
              "      background-color: #3B4455;\n",
              "      fill: #D2E3FC;\n",
              "    }\n",
              "\n",
              "    [theme=dark] .colab-df-convert:hover {\n",
              "      background-color: #434B5C;\n",
              "      box-shadow: 0px 1px 3px 1px rgba(0, 0, 0, 0.15);\n",
              "      filter: drop-shadow(0px 1px 2px rgba(0, 0, 0, 0.3));\n",
              "      fill: #FFFFFF;\n",
              "    }\n",
              "  </style>\n",
              "\n",
              "    <script>\n",
              "      const buttonEl =\n",
              "        document.querySelector('#df-4576c15d-c46d-49dd-b657-25699b183677 button.colab-df-convert');\n",
              "      buttonEl.style.display =\n",
              "        google.colab.kernel.accessAllowed ? 'block' : 'none';\n",
              "\n",
              "      async function convertToInteractive(key) {\n",
              "        const element = document.querySelector('#df-4576c15d-c46d-49dd-b657-25699b183677');\n",
              "        const dataTable =\n",
              "          await google.colab.kernel.invokeFunction('convertToInteractive',\n",
              "                                                    [key], {});\n",
              "        if (!dataTable) return;\n",
              "\n",
              "        const docLinkHtml = 'Like what you see? Visit the ' +\n",
              "          '<a target=\"_blank\" href=https://colab.research.google.com/notebooks/data_table.ipynb>data table notebook</a>'\n",
              "          + ' to learn more about interactive tables.';\n",
              "        element.innerHTML = '';\n",
              "        dataTable['output_type'] = 'display_data';\n",
              "        await google.colab.output.renderOutput(dataTable, element);\n",
              "        const docLink = document.createElement('div');\n",
              "        docLink.innerHTML = docLinkHtml;\n",
              "        element.appendChild(docLink);\n",
              "      }\n",
              "    </script>\n",
              "  </div>\n",
              "\n",
              "\n",
              "<div id=\"df-f470f7c6-4a26-402f-9649-ff68f570c232\">\n",
              "  <button class=\"colab-df-quickchart\" onclick=\"quickchart('df-f470f7c6-4a26-402f-9649-ff68f570c232')\"\n",
              "            title=\"Suggest charts\"\n",
              "            style=\"display:none;\">\n",
              "\n",
              "<svg xmlns=\"http://www.w3.org/2000/svg\" height=\"24px\"viewBox=\"0 0 24 24\"\n",
              "     width=\"24px\">\n",
              "    <g>\n",
              "        <path d=\"M19 3H5c-1.1 0-2 .9-2 2v14c0 1.1.9 2 2 2h14c1.1 0 2-.9 2-2V5c0-1.1-.9-2-2-2zM9 17H7v-7h2v7zm4 0h-2V7h2v10zm4 0h-2v-4h2v4z\"/>\n",
              "    </g>\n",
              "</svg>\n",
              "  </button>\n",
              "\n",
              "<style>\n",
              "  .colab-df-quickchart {\n",
              "      --bg-color: #E8F0FE;\n",
              "      --fill-color: #1967D2;\n",
              "      --hover-bg-color: #E2EBFA;\n",
              "      --hover-fill-color: #174EA6;\n",
              "      --disabled-fill-color: #AAA;\n",
              "      --disabled-bg-color: #DDD;\n",
              "  }\n",
              "\n",
              "  [theme=dark] .colab-df-quickchart {\n",
              "      --bg-color: #3B4455;\n",
              "      --fill-color: #D2E3FC;\n",
              "      --hover-bg-color: #434B5C;\n",
              "      --hover-fill-color: #FFFFFF;\n",
              "      --disabled-bg-color: #3B4455;\n",
              "      --disabled-fill-color: #666;\n",
              "  }\n",
              "\n",
              "  .colab-df-quickchart {\n",
              "    background-color: var(--bg-color);\n",
              "    border: none;\n",
              "    border-radius: 50%;\n",
              "    cursor: pointer;\n",
              "    display: none;\n",
              "    fill: var(--fill-color);\n",
              "    height: 32px;\n",
              "    padding: 0;\n",
              "    width: 32px;\n",
              "  }\n",
              "\n",
              "  .colab-df-quickchart:hover {\n",
              "    background-color: var(--hover-bg-color);\n",
              "    box-shadow: 0 1px 2px rgba(60, 64, 67, 0.3), 0 1px 3px 1px rgba(60, 64, 67, 0.15);\n",
              "    fill: var(--button-hover-fill-color);\n",
              "  }\n",
              "\n",
              "  .colab-df-quickchart-complete:disabled,\n",
              "  .colab-df-quickchart-complete:disabled:hover {\n",
              "    background-color: var(--disabled-bg-color);\n",
              "    fill: var(--disabled-fill-color);\n",
              "    box-shadow: none;\n",
              "  }\n",
              "\n",
              "  .colab-df-spinner {\n",
              "    border: 2px solid var(--fill-color);\n",
              "    border-color: transparent;\n",
              "    border-bottom-color: var(--fill-color);\n",
              "    animation:\n",
              "      spin 1s steps(1) infinite;\n",
              "  }\n",
              "\n",
              "  @keyframes spin {\n",
              "    0% {\n",
              "      border-color: transparent;\n",
              "      border-bottom-color: var(--fill-color);\n",
              "      border-left-color: var(--fill-color);\n",
              "    }\n",
              "    20% {\n",
              "      border-color: transparent;\n",
              "      border-left-color: var(--fill-color);\n",
              "      border-top-color: var(--fill-color);\n",
              "    }\n",
              "    30% {\n",
              "      border-color: transparent;\n",
              "      border-left-color: var(--fill-color);\n",
              "      border-top-color: var(--fill-color);\n",
              "      border-right-color: var(--fill-color);\n",
              "    }\n",
              "    40% {\n",
              "      border-color: transparent;\n",
              "      border-right-color: var(--fill-color);\n",
              "      border-top-color: var(--fill-color);\n",
              "    }\n",
              "    60% {\n",
              "      border-color: transparent;\n",
              "      border-right-color: var(--fill-color);\n",
              "    }\n",
              "    80% {\n",
              "      border-color: transparent;\n",
              "      border-right-color: var(--fill-color);\n",
              "      border-bottom-color: var(--fill-color);\n",
              "    }\n",
              "    90% {\n",
              "      border-color: transparent;\n",
              "      border-bottom-color: var(--fill-color);\n",
              "    }\n",
              "  }\n",
              "</style>\n",
              "\n",
              "  <script>\n",
              "    async function quickchart(key) {\n",
              "      const quickchartButtonEl =\n",
              "        document.querySelector('#' + key + ' button');\n",
              "      quickchartButtonEl.disabled = true;  // To prevent multiple clicks.\n",
              "      quickchartButtonEl.classList.add('colab-df-spinner');\n",
              "      try {\n",
              "        const charts = await google.colab.kernel.invokeFunction(\n",
              "            'suggestCharts', [key], {});\n",
              "      } catch (error) {\n",
              "        console.error('Error during call to suggestCharts:', error);\n",
              "      }\n",
              "      quickchartButtonEl.classList.remove('colab-df-spinner');\n",
              "      quickchartButtonEl.classList.add('colab-df-quickchart-complete');\n",
              "    }\n",
              "    (() => {\n",
              "      let quickchartButtonEl =\n",
              "        document.querySelector('#df-f470f7c6-4a26-402f-9649-ff68f570c232 button');\n",
              "      quickchartButtonEl.style.display =\n",
              "        google.colab.kernel.accessAllowed ? 'block' : 'none';\n",
              "    })();\n",
              "  </script>\n",
              "</div>\n",
              "\n",
              "    </div>\n",
              "  </div>\n"
            ],
            "application/vnd.google.colaboratory.intrinsic+json": {
              "type": "dataframe",
              "variable_name": "df",
              "summary": "{\n  \"name\": \"df\",\n  \"rows\": 5630,\n  \"fields\": [\n    {\n      \"column\": \"CustomerID\",\n      \"properties\": {\n        \"dtype\": \"number\",\n        \"std\": 1625,\n        \"min\": 50001,\n        \"max\": 55630,\n        \"num_unique_values\": 5630,\n        \"samples\": [\n          54332,\n          51989,\n          53444\n        ],\n        \"semantic_type\": \"\",\n        \"description\": \"\"\n      }\n    },\n    {\n      \"column\": \"Churn\",\n      \"properties\": {\n        \"dtype\": \"number\",\n        \"std\": 0,\n        \"min\": 0,\n        \"max\": 1,\n        \"num_unique_values\": 2,\n        \"samples\": [\n          0,\n          1\n        ],\n        \"semantic_type\": \"\",\n        \"description\": \"\"\n      }\n    },\n    {\n      \"column\": \"Tenure\",\n      \"properties\": {\n        \"dtype\": \"number\",\n        \"std\": 8.557240984165002,\n        \"min\": 0.0,\n        \"max\": 61.0,\n        \"num_unique_values\": 36,\n        \"samples\": [\n          61.0,\n          1.0\n        ],\n        \"semantic_type\": \"\",\n        \"description\": \"\"\n      }\n    },\n    {\n      \"column\": \"PreferredLoginDevice\",\n      \"properties\": {\n        \"dtype\": \"category\",\n        \"num_unique_values\": 3,\n        \"samples\": [\n          \"Mobile Phone\",\n          \"Phone\"\n        ],\n        \"semantic_type\": \"\",\n        \"description\": \"\"\n      }\n    },\n    {\n      \"column\": \"CityTier\",\n      \"properties\": {\n        \"dtype\": \"number\",\n        \"std\": 0,\n        \"min\": 1,\n        \"max\": 3,\n        \"num_unique_values\": 3,\n        \"samples\": [\n          3,\n          1\n        ],\n        \"semantic_type\": \"\",\n        \"description\": \"\"\n      }\n    },\n    {\n      \"column\": \"WarehouseToHome\",\n      \"properties\": {\n        \"dtype\": \"number\",\n        \"std\": 8.53147518676263,\n        \"min\": 5.0,\n        \"max\": 127.0,\n        \"num_unique_values\": 34,\n        \"samples\": [\n          14.0,\n          23.0\n        ],\n        \"semantic_type\": \"\",\n        \"description\": \"\"\n      }\n    },\n    {\n      \"column\": \"PreferredPaymentMode\",\n      \"properties\": {\n        \"dtype\": \"category\",\n        \"num_unique_values\": 7,\n        \"samples\": [\n          \"Debit Card\",\n          \"UPI\"\n        ],\n        \"semantic_type\": \"\",\n        \"description\": \"\"\n      }\n    },\n    {\n      \"column\": \"Gender\",\n      \"properties\": {\n        \"dtype\": \"category\",\n        \"num_unique_values\": 2,\n        \"samples\": [\n          \"Male\",\n          \"Female\"\n        ],\n        \"semantic_type\": \"\",\n        \"description\": \"\"\n      }\n    },\n    {\n      \"column\": \"HourSpendOnApp\",\n      \"properties\": {\n        \"dtype\": \"number\",\n        \"std\": 0.7219258499760615,\n        \"min\": 0.0,\n        \"max\": 5.0,\n        \"num_unique_values\": 6,\n        \"samples\": [\n          3.0,\n          2.0\n        ],\n        \"semantic_type\": \"\",\n        \"description\": \"\"\n      }\n    },\n    {\n      \"column\": \"NumberOfDeviceRegistered\",\n      \"properties\": {\n        \"dtype\": \"number\",\n        \"std\": 1,\n        \"min\": 1,\n        \"max\": 6,\n        \"num_unique_values\": 6,\n        \"samples\": [\n          3,\n          4\n        ],\n        \"semantic_type\": \"\",\n        \"description\": \"\"\n      }\n    },\n    {\n      \"column\": \"PreferedOrderCat\",\n      \"properties\": {\n        \"dtype\": \"category\",\n        \"num_unique_values\": 6,\n        \"samples\": [\n          \"Laptop & Accessory\",\n          \"Mobile\"\n        ],\n        \"semantic_type\": \"\",\n        \"description\": \"\"\n      }\n    },\n    {\n      \"column\": \"SatisfactionScore\",\n      \"properties\": {\n        \"dtype\": \"number\",\n        \"std\": 1,\n        \"min\": 1,\n        \"max\": 5,\n        \"num_unique_values\": 5,\n        \"samples\": [\n          3,\n          1\n        ],\n        \"semantic_type\": \"\",\n        \"description\": \"\"\n      }\n    },\n    {\n      \"column\": \"MaritalStatus\",\n      \"properties\": {\n        \"dtype\": \"category\",\n        \"num_unique_values\": 3,\n        \"samples\": [\n          \"Single\",\n          \"Divorced\"\n        ],\n        \"semantic_type\": \"\",\n        \"description\": \"\"\n      }\n    },\n    {\n      \"column\": \"NumberOfAddress\",\n      \"properties\": {\n        \"dtype\": \"number\",\n        \"std\": 2,\n        \"min\": 1,\n        \"max\": 22,\n        \"num_unique_values\": 15,\n        \"samples\": [\n          5,\n          21\n        ],\n        \"semantic_type\": \"\",\n        \"description\": \"\"\n      }\n    },\n    {\n      \"column\": \"Complain\",\n      \"properties\": {\n        \"dtype\": \"number\",\n        \"std\": 0,\n        \"min\": 0,\n        \"max\": 1,\n        \"num_unique_values\": 2,\n        \"samples\": [\n          0,\n          1\n        ],\n        \"semantic_type\": \"\",\n        \"description\": \"\"\n      }\n    },\n    {\n      \"column\": \"OrderAmountHikeFromlastYear\",\n      \"properties\": {\n        \"dtype\": \"number\",\n        \"std\": 3.6754854627464644,\n        \"min\": 11.0,\n        \"max\": 26.0,\n        \"num_unique_values\": 16,\n        \"samples\": [\n          11.0,\n          15.0\n        ],\n        \"semantic_type\": \"\",\n        \"description\": \"\"\n      }\n    },\n    {\n      \"column\": \"CouponUsed\",\n      \"properties\": {\n        \"dtype\": \"number\",\n        \"std\": 1.8946214472186502,\n        \"min\": 0.0,\n        \"max\": 16.0,\n        \"num_unique_values\": 17,\n        \"samples\": [\n          1.0,\n          0.0\n        ],\n        \"semantic_type\": \"\",\n        \"description\": \"\"\n      }\n    },\n    {\n      \"column\": \"OrderCount\",\n      \"properties\": {\n        \"dtype\": \"number\",\n        \"std\": 2.9396795481512608,\n        \"min\": 1.0,\n        \"max\": 16.0,\n        \"num_unique_values\": 16,\n        \"samples\": [\n          1.0,\n          6.0\n        ],\n        \"semantic_type\": \"\",\n        \"description\": \"\"\n      }\n    },\n    {\n      \"column\": \"DaySinceLastOrder\",\n      \"properties\": {\n        \"dtype\": \"number\",\n        \"std\": 3.6544331967013357,\n        \"min\": 0.0,\n        \"max\": 46.0,\n        \"num_unique_values\": 22,\n        \"samples\": [\n          5.0,\n          13.0\n        ],\n        \"semantic_type\": \"\",\n        \"description\": \"\"\n      }\n    },\n    {\n      \"column\": \"CashbackAmount\",\n      \"properties\": {\n        \"dtype\": \"number\",\n        \"std\": 49.20703617486409,\n        \"min\": 0.0,\n        \"max\": 324.99,\n        \"num_unique_values\": 2586,\n        \"samples\": [\n          125.19,\n          137.32\n        ],\n        \"semantic_type\": \"\",\n        \"description\": \"\"\n      }\n    }\n  ]\n}"
            }
          },
          "metadata": {},
          "execution_count": 131
        }
      ],
      "source": [
        "df.head()"
      ]
    },
    {
      "cell_type": "code",
      "execution_count": 132,
      "id": "6b77bdaa",
      "metadata": {
        "id": "6b77bdaa",
        "outputId": "3559611d-4f88-4293-cb98-5341616b3092",
        "colab": {
          "base_uri": "https://localhost:8080/",
          "height": 320
        }
      },
      "outputs": [
        {
          "output_type": "execute_result",
          "data": {
            "text/plain": [
              "         CustomerID        Churn       Tenure     CityTier  WarehouseToHome  \\\n",
              "count   5630.000000  5630.000000  5366.000000  5630.000000      5379.000000   \n",
              "mean   52815.500000     0.168384    10.189899     1.654707        15.639896   \n",
              "std     1625.385339     0.374240     8.557241     0.915389         8.531475   \n",
              "min    50001.000000     0.000000     0.000000     1.000000         5.000000   \n",
              "25%    51408.250000     0.000000     2.000000     1.000000         9.000000   \n",
              "50%    52815.500000     0.000000     9.000000     1.000000        14.000000   \n",
              "75%    54222.750000     0.000000    16.000000     3.000000        20.000000   \n",
              "max    55630.000000     1.000000    61.000000     3.000000       127.000000   \n",
              "\n",
              "       HourSpendOnApp  NumberOfDeviceRegistered  SatisfactionScore  \\\n",
              "count     5375.000000               5630.000000        5630.000000   \n",
              "mean         2.931535                  3.688988           3.066785   \n",
              "std          0.721926                  1.023999           1.380194   \n",
              "min          0.000000                  1.000000           1.000000   \n",
              "25%          2.000000                  3.000000           2.000000   \n",
              "50%          3.000000                  4.000000           3.000000   \n",
              "75%          3.000000                  4.000000           4.000000   \n",
              "max          5.000000                  6.000000           5.000000   \n",
              "\n",
              "       NumberOfAddress     Complain  OrderAmountHikeFromlastYear   CouponUsed  \\\n",
              "count      5630.000000  5630.000000                  5365.000000  5374.000000   \n",
              "mean          4.214032     0.284902                    15.707922     1.751023   \n",
              "std           2.583586     0.451408                     3.675485     1.894621   \n",
              "min           1.000000     0.000000                    11.000000     0.000000   \n",
              "25%           2.000000     0.000000                    13.000000     1.000000   \n",
              "50%           3.000000     0.000000                    15.000000     1.000000   \n",
              "75%           6.000000     1.000000                    18.000000     2.000000   \n",
              "max          22.000000     1.000000                    26.000000    16.000000   \n",
              "\n",
              "        OrderCount  DaySinceLastOrder  CashbackAmount  \n",
              "count  5372.000000        5323.000000     5630.000000  \n",
              "mean      3.008004           4.543491      177.223030  \n",
              "std       2.939680           3.654433       49.207036  \n",
              "min       1.000000           0.000000        0.000000  \n",
              "25%       1.000000           2.000000      145.770000  \n",
              "50%       2.000000           3.000000      163.280000  \n",
              "75%       3.000000           7.000000      196.392500  \n",
              "max      16.000000          46.000000      324.990000  "
            ],
            "text/html": [
              "\n",
              "  <div id=\"df-15fcc4b6-f776-45d2-a5f2-6ff1a1047c93\" class=\"colab-df-container\">\n",
              "    <div>\n",
              "<style scoped>\n",
              "    .dataframe tbody tr th:only-of-type {\n",
              "        vertical-align: middle;\n",
              "    }\n",
              "\n",
              "    .dataframe tbody tr th {\n",
              "        vertical-align: top;\n",
              "    }\n",
              "\n",
              "    .dataframe thead th {\n",
              "        text-align: right;\n",
              "    }\n",
              "</style>\n",
              "<table border=\"1\" class=\"dataframe\">\n",
              "  <thead>\n",
              "    <tr style=\"text-align: right;\">\n",
              "      <th></th>\n",
              "      <th>CustomerID</th>\n",
              "      <th>Churn</th>\n",
              "      <th>Tenure</th>\n",
              "      <th>CityTier</th>\n",
              "      <th>WarehouseToHome</th>\n",
              "      <th>HourSpendOnApp</th>\n",
              "      <th>NumberOfDeviceRegistered</th>\n",
              "      <th>SatisfactionScore</th>\n",
              "      <th>NumberOfAddress</th>\n",
              "      <th>Complain</th>\n",
              "      <th>OrderAmountHikeFromlastYear</th>\n",
              "      <th>CouponUsed</th>\n",
              "      <th>OrderCount</th>\n",
              "      <th>DaySinceLastOrder</th>\n",
              "      <th>CashbackAmount</th>\n",
              "    </tr>\n",
              "  </thead>\n",
              "  <tbody>\n",
              "    <tr>\n",
              "      <th>count</th>\n",
              "      <td>5630.000000</td>\n",
              "      <td>5630.000000</td>\n",
              "      <td>5366.000000</td>\n",
              "      <td>5630.000000</td>\n",
              "      <td>5379.000000</td>\n",
              "      <td>5375.000000</td>\n",
              "      <td>5630.000000</td>\n",
              "      <td>5630.000000</td>\n",
              "      <td>5630.000000</td>\n",
              "      <td>5630.000000</td>\n",
              "      <td>5365.000000</td>\n",
              "      <td>5374.000000</td>\n",
              "      <td>5372.000000</td>\n",
              "      <td>5323.000000</td>\n",
              "      <td>5630.000000</td>\n",
              "    </tr>\n",
              "    <tr>\n",
              "      <th>mean</th>\n",
              "      <td>52815.500000</td>\n",
              "      <td>0.168384</td>\n",
              "      <td>10.189899</td>\n",
              "      <td>1.654707</td>\n",
              "      <td>15.639896</td>\n",
              "      <td>2.931535</td>\n",
              "      <td>3.688988</td>\n",
              "      <td>3.066785</td>\n",
              "      <td>4.214032</td>\n",
              "      <td>0.284902</td>\n",
              "      <td>15.707922</td>\n",
              "      <td>1.751023</td>\n",
              "      <td>3.008004</td>\n",
              "      <td>4.543491</td>\n",
              "      <td>177.223030</td>\n",
              "    </tr>\n",
              "    <tr>\n",
              "      <th>std</th>\n",
              "      <td>1625.385339</td>\n",
              "      <td>0.374240</td>\n",
              "      <td>8.557241</td>\n",
              "      <td>0.915389</td>\n",
              "      <td>8.531475</td>\n",
              "      <td>0.721926</td>\n",
              "      <td>1.023999</td>\n",
              "      <td>1.380194</td>\n",
              "      <td>2.583586</td>\n",
              "      <td>0.451408</td>\n",
              "      <td>3.675485</td>\n",
              "      <td>1.894621</td>\n",
              "      <td>2.939680</td>\n",
              "      <td>3.654433</td>\n",
              "      <td>49.207036</td>\n",
              "    </tr>\n",
              "    <tr>\n",
              "      <th>min</th>\n",
              "      <td>50001.000000</td>\n",
              "      <td>0.000000</td>\n",
              "      <td>0.000000</td>\n",
              "      <td>1.000000</td>\n",
              "      <td>5.000000</td>\n",
              "      <td>0.000000</td>\n",
              "      <td>1.000000</td>\n",
              "      <td>1.000000</td>\n",
              "      <td>1.000000</td>\n",
              "      <td>0.000000</td>\n",
              "      <td>11.000000</td>\n",
              "      <td>0.000000</td>\n",
              "      <td>1.000000</td>\n",
              "      <td>0.000000</td>\n",
              "      <td>0.000000</td>\n",
              "    </tr>\n",
              "    <tr>\n",
              "      <th>25%</th>\n",
              "      <td>51408.250000</td>\n",
              "      <td>0.000000</td>\n",
              "      <td>2.000000</td>\n",
              "      <td>1.000000</td>\n",
              "      <td>9.000000</td>\n",
              "      <td>2.000000</td>\n",
              "      <td>3.000000</td>\n",
              "      <td>2.000000</td>\n",
              "      <td>2.000000</td>\n",
              "      <td>0.000000</td>\n",
              "      <td>13.000000</td>\n",
              "      <td>1.000000</td>\n",
              "      <td>1.000000</td>\n",
              "      <td>2.000000</td>\n",
              "      <td>145.770000</td>\n",
              "    </tr>\n",
              "    <tr>\n",
              "      <th>50%</th>\n",
              "      <td>52815.500000</td>\n",
              "      <td>0.000000</td>\n",
              "      <td>9.000000</td>\n",
              "      <td>1.000000</td>\n",
              "      <td>14.000000</td>\n",
              "      <td>3.000000</td>\n",
              "      <td>4.000000</td>\n",
              "      <td>3.000000</td>\n",
              "      <td>3.000000</td>\n",
              "      <td>0.000000</td>\n",
              "      <td>15.000000</td>\n",
              "      <td>1.000000</td>\n",
              "      <td>2.000000</td>\n",
              "      <td>3.000000</td>\n",
              "      <td>163.280000</td>\n",
              "    </tr>\n",
              "    <tr>\n",
              "      <th>75%</th>\n",
              "      <td>54222.750000</td>\n",
              "      <td>0.000000</td>\n",
              "      <td>16.000000</td>\n",
              "      <td>3.000000</td>\n",
              "      <td>20.000000</td>\n",
              "      <td>3.000000</td>\n",
              "      <td>4.000000</td>\n",
              "      <td>4.000000</td>\n",
              "      <td>6.000000</td>\n",
              "      <td>1.000000</td>\n",
              "      <td>18.000000</td>\n",
              "      <td>2.000000</td>\n",
              "      <td>3.000000</td>\n",
              "      <td>7.000000</td>\n",
              "      <td>196.392500</td>\n",
              "    </tr>\n",
              "    <tr>\n",
              "      <th>max</th>\n",
              "      <td>55630.000000</td>\n",
              "      <td>1.000000</td>\n",
              "      <td>61.000000</td>\n",
              "      <td>3.000000</td>\n",
              "      <td>127.000000</td>\n",
              "      <td>5.000000</td>\n",
              "      <td>6.000000</td>\n",
              "      <td>5.000000</td>\n",
              "      <td>22.000000</td>\n",
              "      <td>1.000000</td>\n",
              "      <td>26.000000</td>\n",
              "      <td>16.000000</td>\n",
              "      <td>16.000000</td>\n",
              "      <td>46.000000</td>\n",
              "      <td>324.990000</td>\n",
              "    </tr>\n",
              "  </tbody>\n",
              "</table>\n",
              "</div>\n",
              "    <div class=\"colab-df-buttons\">\n",
              "\n",
              "  <div class=\"colab-df-container\">\n",
              "    <button class=\"colab-df-convert\" onclick=\"convertToInteractive('df-15fcc4b6-f776-45d2-a5f2-6ff1a1047c93')\"\n",
              "            title=\"Convert this dataframe to an interactive table.\"\n",
              "            style=\"display:none;\">\n",
              "\n",
              "  <svg xmlns=\"http://www.w3.org/2000/svg\" height=\"24px\" viewBox=\"0 -960 960 960\">\n",
              "    <path d=\"M120-120v-720h720v720H120Zm60-500h600v-160H180v160Zm220 220h160v-160H400v160Zm0 220h160v-160H400v160ZM180-400h160v-160H180v160Zm440 0h160v-160H620v160ZM180-180h160v-160H180v160Zm440 0h160v-160H620v160Z\"/>\n",
              "  </svg>\n",
              "    </button>\n",
              "\n",
              "  <style>\n",
              "    .colab-df-container {\n",
              "      display:flex;\n",
              "      gap: 12px;\n",
              "    }\n",
              "\n",
              "    .colab-df-convert {\n",
              "      background-color: #E8F0FE;\n",
              "      border: none;\n",
              "      border-radius: 50%;\n",
              "      cursor: pointer;\n",
              "      display: none;\n",
              "      fill: #1967D2;\n",
              "      height: 32px;\n",
              "      padding: 0 0 0 0;\n",
              "      width: 32px;\n",
              "    }\n",
              "\n",
              "    .colab-df-convert:hover {\n",
              "      background-color: #E2EBFA;\n",
              "      box-shadow: 0px 1px 2px rgba(60, 64, 67, 0.3), 0px 1px 3px 1px rgba(60, 64, 67, 0.15);\n",
              "      fill: #174EA6;\n",
              "    }\n",
              "\n",
              "    .colab-df-buttons div {\n",
              "      margin-bottom: 4px;\n",
              "    }\n",
              "\n",
              "    [theme=dark] .colab-df-convert {\n",
              "      background-color: #3B4455;\n",
              "      fill: #D2E3FC;\n",
              "    }\n",
              "\n",
              "    [theme=dark] .colab-df-convert:hover {\n",
              "      background-color: #434B5C;\n",
              "      box-shadow: 0px 1px 3px 1px rgba(0, 0, 0, 0.15);\n",
              "      filter: drop-shadow(0px 1px 2px rgba(0, 0, 0, 0.3));\n",
              "      fill: #FFFFFF;\n",
              "    }\n",
              "  </style>\n",
              "\n",
              "    <script>\n",
              "      const buttonEl =\n",
              "        document.querySelector('#df-15fcc4b6-f776-45d2-a5f2-6ff1a1047c93 button.colab-df-convert');\n",
              "      buttonEl.style.display =\n",
              "        google.colab.kernel.accessAllowed ? 'block' : 'none';\n",
              "\n",
              "      async function convertToInteractive(key) {\n",
              "        const element = document.querySelector('#df-15fcc4b6-f776-45d2-a5f2-6ff1a1047c93');\n",
              "        const dataTable =\n",
              "          await google.colab.kernel.invokeFunction('convertToInteractive',\n",
              "                                                    [key], {});\n",
              "        if (!dataTable) return;\n",
              "\n",
              "        const docLinkHtml = 'Like what you see? Visit the ' +\n",
              "          '<a target=\"_blank\" href=https://colab.research.google.com/notebooks/data_table.ipynb>data table notebook</a>'\n",
              "          + ' to learn more about interactive tables.';\n",
              "        element.innerHTML = '';\n",
              "        dataTable['output_type'] = 'display_data';\n",
              "        await google.colab.output.renderOutput(dataTable, element);\n",
              "        const docLink = document.createElement('div');\n",
              "        docLink.innerHTML = docLinkHtml;\n",
              "        element.appendChild(docLink);\n",
              "      }\n",
              "    </script>\n",
              "  </div>\n",
              "\n",
              "\n",
              "<div id=\"df-16a67e0d-9d16-461d-a0ca-a15e551e4f99\">\n",
              "  <button class=\"colab-df-quickchart\" onclick=\"quickchart('df-16a67e0d-9d16-461d-a0ca-a15e551e4f99')\"\n",
              "            title=\"Suggest charts\"\n",
              "            style=\"display:none;\">\n",
              "\n",
              "<svg xmlns=\"http://www.w3.org/2000/svg\" height=\"24px\"viewBox=\"0 0 24 24\"\n",
              "     width=\"24px\">\n",
              "    <g>\n",
              "        <path d=\"M19 3H5c-1.1 0-2 .9-2 2v14c0 1.1.9 2 2 2h14c1.1 0 2-.9 2-2V5c0-1.1-.9-2-2-2zM9 17H7v-7h2v7zm4 0h-2V7h2v10zm4 0h-2v-4h2v4z\"/>\n",
              "    </g>\n",
              "</svg>\n",
              "  </button>\n",
              "\n",
              "<style>\n",
              "  .colab-df-quickchart {\n",
              "      --bg-color: #E8F0FE;\n",
              "      --fill-color: #1967D2;\n",
              "      --hover-bg-color: #E2EBFA;\n",
              "      --hover-fill-color: #174EA6;\n",
              "      --disabled-fill-color: #AAA;\n",
              "      --disabled-bg-color: #DDD;\n",
              "  }\n",
              "\n",
              "  [theme=dark] .colab-df-quickchart {\n",
              "      --bg-color: #3B4455;\n",
              "      --fill-color: #D2E3FC;\n",
              "      --hover-bg-color: #434B5C;\n",
              "      --hover-fill-color: #FFFFFF;\n",
              "      --disabled-bg-color: #3B4455;\n",
              "      --disabled-fill-color: #666;\n",
              "  }\n",
              "\n",
              "  .colab-df-quickchart {\n",
              "    background-color: var(--bg-color);\n",
              "    border: none;\n",
              "    border-radius: 50%;\n",
              "    cursor: pointer;\n",
              "    display: none;\n",
              "    fill: var(--fill-color);\n",
              "    height: 32px;\n",
              "    padding: 0;\n",
              "    width: 32px;\n",
              "  }\n",
              "\n",
              "  .colab-df-quickchart:hover {\n",
              "    background-color: var(--hover-bg-color);\n",
              "    box-shadow: 0 1px 2px rgba(60, 64, 67, 0.3), 0 1px 3px 1px rgba(60, 64, 67, 0.15);\n",
              "    fill: var(--button-hover-fill-color);\n",
              "  }\n",
              "\n",
              "  .colab-df-quickchart-complete:disabled,\n",
              "  .colab-df-quickchart-complete:disabled:hover {\n",
              "    background-color: var(--disabled-bg-color);\n",
              "    fill: var(--disabled-fill-color);\n",
              "    box-shadow: none;\n",
              "  }\n",
              "\n",
              "  .colab-df-spinner {\n",
              "    border: 2px solid var(--fill-color);\n",
              "    border-color: transparent;\n",
              "    border-bottom-color: var(--fill-color);\n",
              "    animation:\n",
              "      spin 1s steps(1) infinite;\n",
              "  }\n",
              "\n",
              "  @keyframes spin {\n",
              "    0% {\n",
              "      border-color: transparent;\n",
              "      border-bottom-color: var(--fill-color);\n",
              "      border-left-color: var(--fill-color);\n",
              "    }\n",
              "    20% {\n",
              "      border-color: transparent;\n",
              "      border-left-color: var(--fill-color);\n",
              "      border-top-color: var(--fill-color);\n",
              "    }\n",
              "    30% {\n",
              "      border-color: transparent;\n",
              "      border-left-color: var(--fill-color);\n",
              "      border-top-color: var(--fill-color);\n",
              "      border-right-color: var(--fill-color);\n",
              "    }\n",
              "    40% {\n",
              "      border-color: transparent;\n",
              "      border-right-color: var(--fill-color);\n",
              "      border-top-color: var(--fill-color);\n",
              "    }\n",
              "    60% {\n",
              "      border-color: transparent;\n",
              "      border-right-color: var(--fill-color);\n",
              "    }\n",
              "    80% {\n",
              "      border-color: transparent;\n",
              "      border-right-color: var(--fill-color);\n",
              "      border-bottom-color: var(--fill-color);\n",
              "    }\n",
              "    90% {\n",
              "      border-color: transparent;\n",
              "      border-bottom-color: var(--fill-color);\n",
              "    }\n",
              "  }\n",
              "</style>\n",
              "\n",
              "  <script>\n",
              "    async function quickchart(key) {\n",
              "      const quickchartButtonEl =\n",
              "        document.querySelector('#' + key + ' button');\n",
              "      quickchartButtonEl.disabled = true;  // To prevent multiple clicks.\n",
              "      quickchartButtonEl.classList.add('colab-df-spinner');\n",
              "      try {\n",
              "        const charts = await google.colab.kernel.invokeFunction(\n",
              "            'suggestCharts', [key], {});\n",
              "      } catch (error) {\n",
              "        console.error('Error during call to suggestCharts:', error);\n",
              "      }\n",
              "      quickchartButtonEl.classList.remove('colab-df-spinner');\n",
              "      quickchartButtonEl.classList.add('colab-df-quickchart-complete');\n",
              "    }\n",
              "    (() => {\n",
              "      let quickchartButtonEl =\n",
              "        document.querySelector('#df-16a67e0d-9d16-461d-a0ca-a15e551e4f99 button');\n",
              "      quickchartButtonEl.style.display =\n",
              "        google.colab.kernel.accessAllowed ? 'block' : 'none';\n",
              "    })();\n",
              "  </script>\n",
              "</div>\n",
              "\n",
              "    </div>\n",
              "  </div>\n"
            ],
            "application/vnd.google.colaboratory.intrinsic+json": {
              "type": "dataframe",
              "summary": "{\n  \"name\": \"df\",\n  \"rows\": 8,\n  \"fields\": [\n    {\n      \"column\": \"CustomerID\",\n      \"properties\": {\n        \"dtype\": \"number\",\n        \"std\": 22856.641985257913,\n        \"min\": 1625.3853389273572,\n        \"max\": 55630.0,\n        \"num_unique_values\": 7,\n        \"samples\": [\n          5630.0,\n          52815.5,\n          54222.75\n        ],\n        \"semantic_type\": \"\",\n        \"description\": \"\"\n      }\n    },\n    {\n      \"column\": \"Churn\",\n      \"properties\": {\n        \"dtype\": \"number\",\n        \"std\": 1990.4277045159713,\n        \"min\": 0.0,\n        \"max\": 5630.0,\n        \"num_unique_values\": 5,\n        \"samples\": [\n          0.16838365896980462,\n          1.0,\n          0.3742398682676651\n        ],\n        \"semantic_type\": \"\",\n        \"description\": \"\"\n      }\n    },\n    {\n      \"column\": \"Tenure\",\n      \"properties\": {\n        \"dtype\": \"number\",\n        \"std\": 1891.8745391295101,\n        \"min\": 0.0,\n        \"max\": 5366.0,\n        \"num_unique_values\": 8,\n        \"samples\": [\n          10.189899366380917,\n          9.0,\n          5366.0\n        ],\n        \"semantic_type\": \"\",\n        \"description\": \"\"\n      }\n    },\n    {\n      \"column\": \"CityTier\",\n      \"properties\": {\n        \"dtype\": \"number\",\n        \"std\": 1989.921406639163,\n        \"min\": 0.9153892691210666,\n        \"max\": 5630.0,\n        \"num_unique_values\": 5,\n        \"samples\": [\n          1.6547069271758437,\n          3.0,\n          0.9153892691210666\n        ],\n        \"semantic_type\": \"\",\n        \"description\": \"\"\n      }\n    },\n    {\n      \"column\": \"WarehouseToHome\",\n      \"properties\": {\n        \"dtype\": \"number\",\n        \"std\": 1892.1374878983825,\n        \"min\": 5.0,\n        \"max\": 5379.0,\n        \"num_unique_values\": 8,\n        \"samples\": [\n          15.639895891429633,\n          14.0,\n          5379.0\n        ],\n        \"semantic_type\": \"\",\n        \"description\": \"\"\n      }\n    },\n    {\n      \"column\": \"HourSpendOnApp\",\n      \"properties\": {\n        \"dtype\": \"number\",\n        \"std\": 1899.5089679400794,\n        \"min\": 0.0,\n        \"max\": 5375.0,\n        \"num_unique_values\": 7,\n        \"samples\": [\n          5375.0,\n          2.9315348837209303,\n          3.0\n        ],\n        \"semantic_type\": \"\",\n        \"description\": \"\"\n      }\n    },\n    {\n      \"column\": \"NumberOfDeviceRegistered\",\n      \"properties\": {\n        \"dtype\": \"number\",\n        \"std\": 1989.3590907741343,\n        \"min\": 1.0,\n        \"max\": 5630.0,\n        \"num_unique_values\": 7,\n        \"samples\": [\n          5630.0,\n          3.68898756660746,\n          4.0\n        ],\n        \"semantic_type\": \"\",\n        \"description\": \"\"\n      }\n    },\n    {\n      \"column\": \"SatisfactionScore\",\n      \"properties\": {\n        \"dtype\": \"number\",\n        \"std\": 1989.5238092601521,\n        \"min\": 1.0,\n        \"max\": 5630.0,\n        \"num_unique_values\": 8,\n        \"samples\": [\n          3.066785079928952,\n          3.0,\n          5630.0\n        ],\n        \"semantic_type\": \"\",\n        \"description\": \"\"\n      }\n    },\n    {\n      \"column\": \"NumberOfAddress\",\n      \"properties\": {\n        \"dtype\": \"number\",\n        \"std\": 1988.4565166649631,\n        \"min\": 1.0,\n        \"max\": 5630.0,\n        \"num_unique_values\": 8,\n        \"samples\": [\n          4.214031971580817,\n          3.0,\n          5630.0\n        ],\n        \"semantic_type\": \"\",\n        \"description\": \"\"\n      }\n    },\n    {\n      \"column\": \"Complain\",\n      \"properties\": {\n        \"dtype\": \"number\",\n        \"std\": 1990.3674281133929,\n        \"min\": 0.0,\n        \"max\": 5630.0,\n        \"num_unique_values\": 5,\n        \"samples\": [\n          0.2849023090586146,\n          1.0,\n          0.4514079937386503\n        ],\n        \"semantic_type\": \"\",\n        \"description\": \"\"\n      }\n    },\n    {\n      \"column\": \"OrderAmountHikeFromlastYear\",\n      \"properties\": {\n        \"dtype\": \"number\",\n        \"std\": 1891.6532860687505,\n        \"min\": 3.6754854627464644,\n        \"max\": 5365.0,\n        \"num_unique_values\": 8,\n        \"samples\": [\n          15.707921714818266,\n          15.0,\n          5365.0\n        ],\n        \"semantic_type\": \"\",\n        \"description\": \"\"\n      }\n    },\n    {\n      \"column\": \"CouponUsed\",\n      \"properties\": {\n        \"dtype\": \"number\",\n        \"std\": 1898.8087371595416,\n        \"min\": 0.0,\n        \"max\": 5374.0,\n        \"num_unique_values\": 7,\n        \"samples\": [\n          5374.0,\n          1.7510234462225531,\n          2.0\n        ],\n        \"semantic_type\": \"\",\n        \"description\": \"\"\n      }\n    },\n    {\n      \"column\": \"OrderCount\",\n      \"properties\": {\n        \"dtype\": \"number\",\n        \"std\": 1897.8330953305037,\n        \"min\": 1.0,\n        \"max\": 5372.0,\n        \"num_unique_values\": 7,\n        \"samples\": [\n          5372.0,\n          3.0080044676098288,\n          3.0\n        ],\n        \"semantic_type\": \"\",\n        \"description\": \"\"\n      }\n    },\n    {\n      \"column\": \"DaySinceLastOrder\",\n      \"properties\": {\n        \"dtype\": \"number\",\n        \"std\": 1878.6814987254675,\n        \"min\": 0.0,\n        \"max\": 5323.0,\n        \"num_unique_values\": 8,\n        \"samples\": [\n          4.543490512868683,\n          3.0,\n          5323.0\n        ],\n        \"semantic_type\": \"\",\n        \"description\": \"\"\n      }\n    },\n    {\n      \"column\": \"CashbackAmount\",\n      \"properties\": {\n        \"dtype\": \"number\",\n        \"std\": 1939.5714080180016,\n        \"min\": 0.0,\n        \"max\": 5630.0,\n        \"num_unique_values\": 8,\n        \"samples\": [\n          177.22303019538188,\n          163.28,\n          5630.0\n        ],\n        \"semantic_type\": \"\",\n        \"description\": \"\"\n      }\n    }\n  ]\n}"
            }
          },
          "metadata": {},
          "execution_count": 132
        }
      ],
      "source": [
        "df.describe()"
      ]
    },
    {
      "cell_type": "markdown",
      "id": "bc24eab7",
      "metadata": {
        "id": "bc24eab7"
      },
      "source": [
        "We can see that data range is big, so we need scale data."
      ]
    },
    {
      "cell_type": "markdown",
      "id": "0b6d6596",
      "metadata": {
        "id": "0b6d6596"
      },
      "source": [
        "Checking for duplicates in CustomerID column:"
      ]
    },
    {
      "cell_type": "code",
      "execution_count": 133,
      "id": "de1e3334",
      "metadata": {
        "id": "de1e3334",
        "outputId": "8304a190-3bbf-4b09-fe6d-f7d13d8e344f",
        "colab": {
          "base_uri": "https://localhost:8080/"
        }
      },
      "outputs": [
        {
          "output_type": "execute_result",
          "data": {
            "text/plain": [
              "False"
            ]
          },
          "metadata": {},
          "execution_count": 133
        }
      ],
      "source": [
        "df['CustomerID'].duplicated().any()"
      ]
    },
    {
      "cell_type": "markdown",
      "id": "b23a1494",
      "metadata": {
        "id": "b23a1494"
      },
      "source": [
        "There are no duplicates and we could drop CustomerID column, this value doesn't necessary for analysis"
      ]
    },
    {
      "cell_type": "code",
      "execution_count": 134,
      "id": "ea0f8bfb",
      "metadata": {
        "id": "ea0f8bfb"
      },
      "outputs": [],
      "source": [
        "df = df.drop('CustomerID', axis=1)"
      ]
    },
    {
      "cell_type": "markdown",
      "id": "4d7f7f08",
      "metadata": {
        "id": "4d7f7f08"
      },
      "source": [
        "## **3. Data Preprocessing**"
      ]
    },
    {
      "cell_type": "markdown",
      "id": "041fd827",
      "metadata": {
        "id": "041fd827"
      },
      "source": [
        "### Handling Missing Values\n",
        "\n",
        "First, we need to identify where missing values occur in our dataset - show percent of missing values:"
      ]
    },
    {
      "cell_type": "code",
      "execution_count": 135,
      "id": "2d06c3e3",
      "metadata": {
        "id": "2d06c3e3",
        "outputId": "444dbf90-392f-42da-abd8-efe2ba3c01d4",
        "colab": {
          "base_uri": "https://localhost:8080/",
          "height": 680
        }
      },
      "outputs": [
        {
          "output_type": "execute_result",
          "data": {
            "text/plain": [
              "Churn                          0.00\n",
              "Tenure                         4.69\n",
              "PreferredLoginDevice           0.00\n",
              "CityTier                       0.00\n",
              "WarehouseToHome                4.46\n",
              "PreferredPaymentMode           0.00\n",
              "Gender                         0.00\n",
              "HourSpendOnApp                 4.53\n",
              "NumberOfDeviceRegistered       0.00\n",
              "PreferedOrderCat               0.00\n",
              "SatisfactionScore              0.00\n",
              "MaritalStatus                  0.00\n",
              "NumberOfAddress                0.00\n",
              "Complain                       0.00\n",
              "OrderAmountHikeFromlastYear    4.71\n",
              "CouponUsed                     4.55\n",
              "OrderCount                     4.58\n",
              "DaySinceLastOrder              5.45\n",
              "CashbackAmount                 0.00\n",
              "dtype: float64"
            ],
            "text/html": [
              "<div>\n",
              "<style scoped>\n",
              "    .dataframe tbody tr th:only-of-type {\n",
              "        vertical-align: middle;\n",
              "    }\n",
              "\n",
              "    .dataframe tbody tr th {\n",
              "        vertical-align: top;\n",
              "    }\n",
              "\n",
              "    .dataframe thead th {\n",
              "        text-align: right;\n",
              "    }\n",
              "</style>\n",
              "<table border=\"1\" class=\"dataframe\">\n",
              "  <thead>\n",
              "    <tr style=\"text-align: right;\">\n",
              "      <th></th>\n",
              "      <th>0</th>\n",
              "    </tr>\n",
              "  </thead>\n",
              "  <tbody>\n",
              "    <tr>\n",
              "      <th>Churn</th>\n",
              "      <td>0.00</td>\n",
              "    </tr>\n",
              "    <tr>\n",
              "      <th>Tenure</th>\n",
              "      <td>4.69</td>\n",
              "    </tr>\n",
              "    <tr>\n",
              "      <th>PreferredLoginDevice</th>\n",
              "      <td>0.00</td>\n",
              "    </tr>\n",
              "    <tr>\n",
              "      <th>CityTier</th>\n",
              "      <td>0.00</td>\n",
              "    </tr>\n",
              "    <tr>\n",
              "      <th>WarehouseToHome</th>\n",
              "      <td>4.46</td>\n",
              "    </tr>\n",
              "    <tr>\n",
              "      <th>PreferredPaymentMode</th>\n",
              "      <td>0.00</td>\n",
              "    </tr>\n",
              "    <tr>\n",
              "      <th>Gender</th>\n",
              "      <td>0.00</td>\n",
              "    </tr>\n",
              "    <tr>\n",
              "      <th>HourSpendOnApp</th>\n",
              "      <td>4.53</td>\n",
              "    </tr>\n",
              "    <tr>\n",
              "      <th>NumberOfDeviceRegistered</th>\n",
              "      <td>0.00</td>\n",
              "    </tr>\n",
              "    <tr>\n",
              "      <th>PreferedOrderCat</th>\n",
              "      <td>0.00</td>\n",
              "    </tr>\n",
              "    <tr>\n",
              "      <th>SatisfactionScore</th>\n",
              "      <td>0.00</td>\n",
              "    </tr>\n",
              "    <tr>\n",
              "      <th>MaritalStatus</th>\n",
              "      <td>0.00</td>\n",
              "    </tr>\n",
              "    <tr>\n",
              "      <th>NumberOfAddress</th>\n",
              "      <td>0.00</td>\n",
              "    </tr>\n",
              "    <tr>\n",
              "      <th>Complain</th>\n",
              "      <td>0.00</td>\n",
              "    </tr>\n",
              "    <tr>\n",
              "      <th>OrderAmountHikeFromlastYear</th>\n",
              "      <td>4.71</td>\n",
              "    </tr>\n",
              "    <tr>\n",
              "      <th>CouponUsed</th>\n",
              "      <td>4.55</td>\n",
              "    </tr>\n",
              "    <tr>\n",
              "      <th>OrderCount</th>\n",
              "      <td>4.58</td>\n",
              "    </tr>\n",
              "    <tr>\n",
              "      <th>DaySinceLastOrder</th>\n",
              "      <td>5.45</td>\n",
              "    </tr>\n",
              "    <tr>\n",
              "      <th>CashbackAmount</th>\n",
              "      <td>0.00</td>\n",
              "    </tr>\n",
              "  </tbody>\n",
              "</table>\n",
              "</div><br><label><b>dtype:</b> float64</label>"
            ]
          },
          "metadata": {},
          "execution_count": 135
        }
      ],
      "source": [
        "#Identifying Missing Values\n",
        "round((df.isnull().sum()*100 / df.shape[0]),2)"
      ]
    },
    {
      "cell_type": "markdown",
      "id": "7e7031c2",
      "metadata": {
        "id": "7e7031c2"
      },
      "source": [
        "All Missing values less than 6% so we can use Median Imputation from SimpleImputer.\n",
        "\n",
        "I will use StandardScaler for **Scaling the data**"
      ]
    },
    {
      "cell_type": "code",
      "execution_count": 136,
      "id": "41214040",
      "metadata": {
        "id": "41214040"
      },
      "outputs": [],
      "source": [
        "from sklearn.impute import SimpleImputer\n",
        "from sklearn.preprocessing import StandardScaler, OneHotEncoder\n",
        "from sklearn.compose import ColumnTransformer\n",
        "from sklearn.pipeline import Pipeline\n",
        "\n",
        "df_X = df.drop(columns=[\"Churn\"])\n",
        "num_columns = df_X.select_dtypes([\"int64\", \"float64\"]).columns\n",
        "pipline_num = Pipeline(steps=[('imputer', SimpleImputer(strategy=\"median\")), ('scaler', StandardScaler())])"
      ]
    },
    {
      "cell_type": "markdown",
      "id": "ccf3740c",
      "metadata": {
        "id": "ccf3740c"
      },
      "source": [
        "Transform categorical data to numerical"
      ]
    },
    {
      "cell_type": "code",
      "execution_count": 137,
      "id": "23c0aae6",
      "metadata": {
        "id": "23c0aae6"
      },
      "outputs": [],
      "source": [
        "cat_columns = df.select_dtypes(\"object\").columns\n",
        "pipline_cat = Pipeline(steps=[('encoding', OneHotEncoder())])\n",
        "\n",
        "transformer = ColumnTransformer(\n",
        "    transformers=[('categorical_col', pipline_cat, cat_columns),\n",
        "                  ('numerical_col', pipline_num, num_columns)]\n",
        "    )"
      ]
    },
    {
      "cell_type": "markdown",
      "id": "08dd3f2e",
      "metadata": {
        "id": "08dd3f2e"
      },
      "source": [
        "  ### Checking imbalance  \n",
        "  It is possible than there are small number of customers is crunched, so our data could be imbalalanced. Let's check it."
      ]
    },
    {
      "cell_type": "code",
      "execution_count": 138,
      "id": "d77a437a",
      "metadata": {
        "id": "d77a437a",
        "outputId": "2fe98849-2207-45c9-b4d4-cc7b010c9ea4",
        "colab": {
          "base_uri": "https://localhost:8080/",
          "height": 511
        }
      },
      "outputs": [
        {
          "output_type": "execute_result",
          "data": {
            "text/plain": [
              "<seaborn.axisgrid.FacetGrid at 0x7f5784b72c20>"
            ]
          },
          "metadata": {},
          "execution_count": 138
        },
        {
          "output_type": "display_data",
          "data": {
            "text/plain": [
              "<Figure size 514.667x500 with 1 Axes>"
            ],
            "image/png": "[encoded data removed]"
          },
          "metadata": {}
        }
      ],
      "source": [
        "sns.catplot(x='Churn', kind='count', data=df)"
      ]
    },
    {
      "cell_type": "markdown",
      "id": "2b39ba45",
      "metadata": {
        "id": "2b39ba45"
      },
      "source": [
        "Data imbalanced so let's make Over sample for it Using SMOTE:"
      ]
    },
    {
      "cell_type": "code",
      "execution_count": 140,
      "id": "4badb430",
      "metadata": {
        "id": "4badb430"
      },
      "outputs": [],
      "source": [
        "from imblearn.over_sampling import SMOTE\n",
        "\n",
        "resampler = SMOTE(random_state=RANDOM_STATE)"
      ]
    },
    {
      "cell_type": "markdown",
      "id": "320e11e1",
      "metadata": {
        "id": "320e11e1"
      },
      "source": [
        "## **4. Logistic Regression Model Building**\n",
        "Split data:"
      ]
    },
    {
      "cell_type": "code",
      "execution_count": 141,
      "id": "d2f42c2c",
      "metadata": {
        "id": "d2f42c2c"
      },
      "outputs": [],
      "source": [
        "from sklearn.model_selection import train_test_split\n",
        "from sklearn.metrics import accuracy_score, confusion_matrix, classification_report\n",
        "from imblearn.pipeline import Pipeline as ImbPipeline\n",
        "from sklearn.linear_model import LogisticRegression\n",
        "from sklearn.utils.class_weight import compute_class_weight\n",
        "import seaborn as sns\n",
        "import numpy as np\n",
        "\n",
        "# prepare X and y\n",
        "Y = df[\"Churn\"]\n",
        "X = df.drop(columns=[\"Churn\"])\n",
        "test_size = 0.3\n",
        "\n",
        "# prpeare training and testing data\n",
        "X_train, X_test, y_train, y_test = train_test_split(X, Y, test_size=test_size, random_state=RANDOM_STATE)"
      ]
    },
    {
      "cell_type": "markdown",
      "id": "b56c5e89",
      "metadata": {
        "id": "b56c5e89"
      },
      "source": [
        "### Implementing logistic regression"
      ]
    },
    {
      "cell_type": "code",
      "execution_count": 142,
      "id": "ce0bd250",
      "metadata": {
        "id": "ce0bd250"
      },
      "outputs": [],
      "source": [
        "pipeline = ImbPipeline([\n",
        "          ('transformer', transformer),\n",
        "          ('resampler', resampler),\n",
        "          ('classifier', LogisticRegression(max_iter=10_000, random_state=RANDOM_STATE))\n",
        "      ])"
      ]
    },
    {
      "cell_type": "markdown",
      "id": "a652127f",
      "metadata": {
        "id": "a652127f"
      },
      "source": [
        "### Model training"
      ]
    },
    {
      "cell_type": "code",
      "execution_count": 143,
      "id": "bd58d150",
      "metadata": {
        "id": "bd58d150",
        "outputId": "ca0b9b80-d9ee-4de6-c9f5-80858af88691",
        "colab": {
          "base_uri": "https://localhost:8080/",
          "height": 262
        }
      },
      "outputs": [
        {
          "output_type": "execute_result",
          "data": {
            "text/plain": [
              "Pipeline(steps=[('transformer',\n",
              "                 ColumnTransformer(transformers=[('categorical_col',\n",
              "                                                  Pipeline(steps=[('encoding',\n",
              "                                                                   OneHotEncoder())]),\n",
              "                                                  Index(['PreferredLoginDevice', 'PreferredPaymentMode', 'Gender',\n",
              "       'PreferedOrderCat', 'MaritalStatus'],\n",
              "      dtype='object')),\n",
              "                                                 ('numerical_col',\n",
              "                                                  Pipeline(steps=[('imputer',\n",
              "                                                                   SimpleImputer(strategy='median')),\n",
              "                                                                  ('scaler',\n",
              "                                                                   StandardScaler())]),\n",
              "                                                  Index(['Tenure', 'CityTier', 'WarehouseToHome', 'HourSpendOnApp',\n",
              "       'NumberOfDeviceRegistered', 'SatisfactionScore', 'NumberOfAddress',\n",
              "       'Complain', 'OrderAmountHikeFromlastYear', 'CouponUsed', 'OrderCount',\n",
              "       'DaySinceLastOrder', 'CashbackAmount'],\n",
              "      dtype='object'))])),\n",
              "                ('resampler', SMOTE(random_state=42)),\n",
              "                ('classifier', LogisticRegression(max_iter=10000))])"
            ],
            "text/html": [
              "<style>#sk-container-id-10 {color: black;}#sk-container-id-10 pre{padding: 0;}#sk-container-id-10 div.sk-toggleable {background-color: white;}#sk-container-id-10 label.sk-toggleable__label {cursor: pointer;display: block;width: 100%;margin-bottom: 0;padding: 0.3em;box-sizing: border-box;text-align: center;}#sk-container-id-10 label.sk-toggleable__label-arrow:before {content: \"▸\";float: left;margin-right: 0.25em;color: #696969;}#sk-container-id-10 label.sk-toggleable__label-arrow:hover:before {color: black;}#sk-container-id-10 div.sk-estimator:hover label.sk-toggleable__label-arrow:before {color: black;}#sk-container-id-10 div.sk-toggleable__content {max-height: 0;max-width: 0;overflow: hidden;text-align: left;background-color: #f0f8ff;}#sk-container-id-10 div.sk-toggleable__content pre {margin: 0.2em;color: black;border-radius: 0.25em;background-color: #f0f8ff;}#sk-container-id-10 input.sk-toggleable__control:checked~div.sk-toggleable__content {max-height: 200px;max-width: 100%;overflow: auto;}#sk-container-id-10 input.sk-toggleable__control:checked~label.sk-toggleable__label-arrow:before {content: \"▾\";}#sk-container-id-10 div.sk-estimator input.sk-toggleable__control:checked~label.sk-toggleable__label {background-color: #d4ebff;}#sk-container-id-10 div.sk-label input.sk-toggleable__control:checked~label.sk-toggleable__label {background-color: #d4ebff;}#sk-container-id-10 input.sk-hidden--visually {border: 0;clip: rect(1px 1px 1px 1px);clip: rect(1px, 1px, 1px, 1px);height: 1px;margin: -1px;overflow: hidden;padding: 0;position: absolute;width: 1px;}#sk-container-id-10 div.sk-estimator {font-family: monospace;background-color: #f0f8ff;border: 1px dotted black;border-radius: 0.25em;box-sizing: border-box;margin-bottom: 0.5em;}#sk-container-id-10 div.sk-estimator:hover {background-color: #d4ebff;}#sk-container-id-10 div.sk-parallel-item::after {content: \"\";width: 100%;border-bottom: 1px solid gray;flex-grow: 1;}#sk-container-id-10 div.sk-label:hover label.sk-toggleable__label {background-color: #d4ebff;}#sk-container-id-10 div.sk-serial::before {content: \"\";position: absolute;border-left: 1px solid gray;box-sizing: border-box;top: 0;bottom: 0;left: 50%;z-index: 0;}#sk-container-id-10 div.sk-serial {display: flex;flex-direction: column;align-items: center;background-color: white;padding-right: 0.2em;padding-left: 0.2em;position: relative;}#sk-container-id-10 div.sk-item {position: relative;z-index: 1;}#sk-container-id-10 div.sk-parallel {display: flex;align-items: stretch;justify-content: center;background-color: white;position: relative;}#sk-container-id-10 div.sk-item::before, #sk-container-id-10 div.sk-parallel-item::before {content: \"\";position: absolute;border-left: 1px solid gray;box-sizing: border-box;top: 0;bottom: 0;left: 50%;z-index: -1;}#sk-container-id-10 div.sk-parallel-item {display: flex;flex-direction: column;z-index: 1;position: relative;background-color: white;}#sk-container-id-10 div.sk-parallel-item:first-child::after {align-self: flex-end;width: 50%;}#sk-container-id-10 div.sk-parallel-item:last-child::after {align-self: flex-start;width: 50%;}#sk-container-id-10 div.sk-parallel-item:only-child::after {width: 0;}#sk-container-id-10 div.sk-dashed-wrapped {border: 1px dashed gray;margin: 0 0.4em 0.5em 0.4em;box-sizing: border-box;padding-bottom: 0.4em;background-color: white;}#sk-container-id-10 div.sk-label label {font-family: monospace;font-weight: bold;display: inline-block;line-height: 1.2em;}#sk-container-id-10 div.sk-label-container {text-align: center;}#sk-container-id-10 div.sk-container {/* jupyter's `normalize.less` sets `[hidden] { display: none; }` but bootstrap.min.css set `[hidden] { display: none !important; }` so we also need the `!important` here to be able to override the default hidden behavior on the sphinx rendered scikit-learn.org. See: https://github.com/scikit-learn/scikit-learn/issues/21755 */display: inline-block !important;position: relative;}#sk-container-id-10 div.sk-text-repr-fallback {display: none;}</style><div id=\"sk-container-id-10\" class=\"sk-top-container\"><div class=\"sk-text-repr-fallback\"><pre>Pipeline(steps=[(&#x27;transformer&#x27;,\n",
              "                 ColumnTransformer(transformers=[(&#x27;categorical_col&#x27;,\n",
              "                                                  Pipeline(steps=[(&#x27;encoding&#x27;,\n",
              "                                                                   OneHotEncoder())]),\n",
              "                                                  Index([&#x27;PreferredLoginDevice&#x27;, &#x27;PreferredPaymentMode&#x27;, &#x27;Gender&#x27;,\n",
              "       &#x27;PreferedOrderCat&#x27;, &#x27;MaritalStatus&#x27;],\n",
              "      dtype=&#x27;object&#x27;)),\n",
              "                                                 (&#x27;numerical_col&#x27;,\n",
              "                                                  Pipeline(steps=[(&#x27;imputer&#x27;,\n",
              "                                                                   SimpleImputer(strategy=&#x27;median&#x27;)),\n",
              "                                                                  (&#x27;scaler&#x27;,\n",
              "                                                                   StandardScaler())]),\n",
              "                                                  Index([&#x27;Tenure&#x27;, &#x27;CityTier&#x27;, &#x27;WarehouseToHome&#x27;, &#x27;HourSpendOnApp&#x27;,\n",
              "       &#x27;NumberOfDeviceRegistered&#x27;, &#x27;SatisfactionScore&#x27;, &#x27;NumberOfAddress&#x27;,\n",
              "       &#x27;Complain&#x27;, &#x27;OrderAmountHikeFromlastYear&#x27;, &#x27;CouponUsed&#x27;, &#x27;OrderCount&#x27;,\n",
              "       &#x27;DaySinceLastOrder&#x27;, &#x27;CashbackAmount&#x27;],\n",
              "      dtype=&#x27;object&#x27;))])),\n",
              "                (&#x27;resampler&#x27;, SMOTE(random_state=42)),\n",
              "                (&#x27;classifier&#x27;, LogisticRegression(max_iter=10000))])</pre><b>In a Jupyter environment, please rerun this cell to show the HTML representation or trust the notebook. <br />On GitHub, the HTML representation is unable to render, please try loading this page with nbviewer.org.</b></div><div class=\"sk-container\" hidden><div class=\"sk-item sk-dashed-wrapped\"><div class=\"sk-label-container\"><div class=\"sk-label sk-toggleable\"><input class=\"sk-toggleable__control sk-hidden--visually\" id=\"sk-estimator-id-81\" type=\"checkbox\" ><label for=\"sk-estimator-id-81\" class=\"sk-toggleable__label sk-toggleable__label-arrow\">Pipeline</label><div class=\"sk-toggleable__content\"><pre>Pipeline(steps=[(&#x27;transformer&#x27;,\n",
              "                 ColumnTransformer(transformers=[(&#x27;categorical_col&#x27;,\n",
              "                                                  Pipeline(steps=[(&#x27;encoding&#x27;,\n",
              "                                                                   OneHotEncoder())]),\n",
              "                                                  Index([&#x27;PreferredLoginDevice&#x27;, &#x27;PreferredPaymentMode&#x27;, &#x27;Gender&#x27;,\n",
              "       &#x27;PreferedOrderCat&#x27;, &#x27;MaritalStatus&#x27;],\n",
              "      dtype=&#x27;object&#x27;)),\n",
              "                                                 (&#x27;numerical_col&#x27;,\n",
              "                                                  Pipeline(steps=[(&#x27;imputer&#x27;,\n",
              "                                                                   SimpleImputer(strategy=&#x27;median&#x27;)),\n",
              "                                                                  (&#x27;scaler&#x27;,\n",
              "                                                                   StandardScaler())]),\n",
              "                                                  Index([&#x27;Tenure&#x27;, &#x27;CityTier&#x27;, &#x27;WarehouseToHome&#x27;, &#x27;HourSpendOnApp&#x27;,\n",
              "       &#x27;NumberOfDeviceRegistered&#x27;, &#x27;SatisfactionScore&#x27;, &#x27;NumberOfAddress&#x27;,\n",
              "       &#x27;Complain&#x27;, &#x27;OrderAmountHikeFromlastYear&#x27;, &#x27;CouponUsed&#x27;, &#x27;OrderCount&#x27;,\n",
              "       &#x27;DaySinceLastOrder&#x27;, &#x27;CashbackAmount&#x27;],\n",
              "      dtype=&#x27;object&#x27;))])),\n",
              "                (&#x27;resampler&#x27;, SMOTE(random_state=42)),\n",
              "                (&#x27;classifier&#x27;, LogisticRegression(max_iter=10000))])</pre></div></div></div><div class=\"sk-serial\"><div class=\"sk-item sk-dashed-wrapped\"><div class=\"sk-label-container\"><div class=\"sk-label sk-toggleable\"><input class=\"sk-toggleable__control sk-hidden--visually\" id=\"sk-estimator-id-82\" type=\"checkbox\" ><label for=\"sk-estimator-id-82\" class=\"sk-toggleable__label sk-toggleable__label-arrow\">transformer: ColumnTransformer</label><div class=\"sk-toggleable__content\"><pre>ColumnTransformer(transformers=[(&#x27;categorical_col&#x27;,\n",
              "                                 Pipeline(steps=[(&#x27;encoding&#x27;,\n",
              "                                                  OneHotEncoder())]),\n",
              "                                 Index([&#x27;PreferredLoginDevice&#x27;, &#x27;PreferredPaymentMode&#x27;, &#x27;Gender&#x27;,\n",
              "       &#x27;PreferedOrderCat&#x27;, &#x27;MaritalStatus&#x27;],\n",
              "      dtype=&#x27;object&#x27;)),\n",
              "                                (&#x27;numerical_col&#x27;,\n",
              "                                 Pipeline(steps=[(&#x27;imputer&#x27;,\n",
              "                                                  SimpleImputer(strategy=&#x27;median&#x27;)),\n",
              "                                                 (&#x27;scaler&#x27;, StandardScaler())]),\n",
              "                                 Index([&#x27;Tenure&#x27;, &#x27;CityTier&#x27;, &#x27;WarehouseToHome&#x27;, &#x27;HourSpendOnApp&#x27;,\n",
              "       &#x27;NumberOfDeviceRegistered&#x27;, &#x27;SatisfactionScore&#x27;, &#x27;NumberOfAddress&#x27;,\n",
              "       &#x27;Complain&#x27;, &#x27;OrderAmountHikeFromlastYear&#x27;, &#x27;CouponUsed&#x27;, &#x27;OrderCount&#x27;,\n",
              "       &#x27;DaySinceLastOrder&#x27;, &#x27;CashbackAmount&#x27;],\n",
              "      dtype=&#x27;object&#x27;))])</pre></div></div></div><div class=\"sk-parallel\"><div class=\"sk-parallel-item\"><div class=\"sk-item\"><div class=\"sk-label-container\"><div class=\"sk-label sk-toggleable\"><input class=\"sk-toggleable__control sk-hidden--visually\" id=\"sk-estimator-id-83\" type=\"checkbox\" ><label for=\"sk-estimator-id-83\" class=\"sk-toggleable__label sk-toggleable__label-arrow\">categorical_col</label><div class=\"sk-toggleable__content\"><pre>Index([&#x27;PreferredLoginDevice&#x27;, &#x27;PreferredPaymentMode&#x27;, &#x27;Gender&#x27;,\n",
              "       &#x27;PreferedOrderCat&#x27;, &#x27;MaritalStatus&#x27;],\n",
              "      dtype=&#x27;object&#x27;)</pre></div></div></div><div class=\"sk-serial\"><div class=\"sk-item\"><div class=\"sk-serial\"><div class=\"sk-item\"><div class=\"sk-estimator sk-toggleable\"><input class=\"sk-toggleable__control sk-hidden--visually\" id=\"sk-estimator-id-84\" type=\"checkbox\" ><label for=\"sk-estimator-id-84\" class=\"sk-toggleable__label sk-toggleable__label-arrow\">OneHotEncoder</label><div class=\"sk-toggleable__content\"><pre>OneHotEncoder()</pre></div></div></div></div></div></div></div></div><div class=\"sk-parallel-item\"><div class=\"sk-item\"><div class=\"sk-label-container\"><div class=\"sk-label sk-toggleable\"><input class=\"sk-toggleable__control sk-hidden--visually\" id=\"sk-estimator-id-85\" type=\"checkbox\" ><label for=\"sk-estimator-id-85\" class=\"sk-toggleable__label sk-toggleable__label-arrow\">numerical_col</label><div class=\"sk-toggleable__content\"><pre>Index([&#x27;Tenure&#x27;, &#x27;CityTier&#x27;, &#x27;WarehouseToHome&#x27;, &#x27;HourSpendOnApp&#x27;,\n",
              "       &#x27;NumberOfDeviceRegistered&#x27;, &#x27;SatisfactionScore&#x27;, &#x27;NumberOfAddress&#x27;,\n",
              "       &#x27;Complain&#x27;, &#x27;OrderAmountHikeFromlastYear&#x27;, &#x27;CouponUsed&#x27;, &#x27;OrderCount&#x27;,\n",
              "       &#x27;DaySinceLastOrder&#x27;, &#x27;CashbackAmount&#x27;],\n",
              "      dtype=&#x27;object&#x27;)</pre></div></div></div><div class=\"sk-serial\"><div class=\"sk-item\"><div class=\"sk-serial\"><div class=\"sk-item\"><div class=\"sk-estimator sk-toggleable\"><input class=\"sk-toggleable__control sk-hidden--visually\" id=\"sk-estimator-id-86\" type=\"checkbox\" ><label for=\"sk-estimator-id-86\" class=\"sk-toggleable__label sk-toggleable__label-arrow\">SimpleImputer</label><div class=\"sk-toggleable__content\"><pre>SimpleImputer(strategy=&#x27;median&#x27;)</pre></div></div></div><div class=\"sk-item\"><div class=\"sk-estimator sk-toggleable\"><input class=\"sk-toggleable__control sk-hidden--visually\" id=\"sk-estimator-id-87\" type=\"checkbox\" ><label for=\"sk-estimator-id-87\" class=\"sk-toggleable__label sk-toggleable__label-arrow\">StandardScaler</label><div class=\"sk-toggleable__content\"><pre>StandardScaler()</pre></div></div></div></div></div></div></div></div></div></div><div class=\"sk-item\"><div class=\"sk-estimator sk-toggleable\"><input class=\"sk-toggleable__control sk-hidden--visually\" id=\"sk-estimator-id-88\" type=\"checkbox\" ><label for=\"sk-estimator-id-88\" class=\"sk-toggleable__label sk-toggleable__label-arrow\">SMOTE</label><div class=\"sk-toggleable__content\"><pre>SMOTE(random_state=42)</pre></div></div></div><div class=\"sk-item\"><div class=\"sk-estimator sk-toggleable\"><input class=\"sk-toggleable__control sk-hidden--visually\" id=\"sk-estimator-id-89\" type=\"checkbox\" ><label for=\"sk-estimator-id-89\" class=\"sk-toggleable__label sk-toggleable__label-arrow\">LogisticRegression</label><div class=\"sk-toggleable__content\"><pre>LogisticRegression(max_iter=10000)</pre></div></div></div></div></div></div></div>"
            ]
          },
          "metadata": {},
          "execution_count": 143
        }
      ],
      "source": [
        "pipeline.fit(X_train, y_train)"
      ]
    },
    {
      "cell_type": "markdown",
      "id": "9cf8266f",
      "metadata": {
        "id": "9cf8266f"
      },
      "source": [
        "## **5. Logistic Regression Model Evaluation**\n",
        "\n",
        "### Predictions on test data\n"
      ]
    },
    {
      "cell_type": "code",
      "source": [
        "# calculate the testing data accuracy and confusion matix\n",
        "y_pred_test = pipeline.predict(X_test)\n",
        "#Calculate accuracy\n",
        "\n",
        "print(f\"Accuracy on test set: {pipeline.score(X_test, y_test):0.5}%\")\n",
        "#confusion matrix test Data\n",
        "cm_lr_test = confusion_matrix(y_test, y_pred_test)\n",
        "\n",
        "\n",
        "fig, ax =plt.subplots(1, 2, figsize=(20, 6))\n",
        "ax[0].set_title('Test Set')\n",
        "sns.heatmap(cm_lr_test, annot = True,fmt = 'd', cmap ='Blues', ax=ax[0])\n",
        "\n",
        "#Calculate accuracy\n",
        "y_pred = pipeline.predict(X_train)\n",
        "print(f\"Accuracy on train set: {pipeline.score(X_train, y_train):0.5}%\")\n",
        "cm_lr = confusion_matrix(y_train, y_pred)\n",
        "\n",
        "ax[1].set_title('Train Set')\n",
        "sns.heatmap(cm_lr,annot = True,fmt = 'd', cmap ='Greens', ax=ax[1])\n",
        "\n",
        "\n",
        "fig.show()"
      ],
      "metadata": {
        "colab": {
          "base_uri": "https://localhost:8080/",
          "height": 445
        },
        "id": "DVe6IVJ4P0f1",
        "outputId": "8ff9f195-f801-4107-cec5-b95c4d35956e"
      },
      "id": "DVe6IVJ4P0f1",
      "execution_count": 144,
      "outputs": [
        {
          "output_type": "stream",
          "name": "stdout",
          "text": [
            "Accuracy on test set: 0.82475%\n",
            "Accuracy on train set: 0.81477%\n"
          ]
        },
        {
          "output_type": "display_data",
          "data": {
            "text/plain": [
              "<Figure size 2000x600 with 4 Axes>"
            ],
            "image/png": "[encoded data removed]"
          },
          "metadata": {}
        }
      ]
    },
    {
      "cell_type": "markdown",
      "id": "9dd69531",
      "metadata": {
        "id": "9dd69531"
      },
      "source": [
        "### Calculating accuracy, precision, recall, and F1-score"
      ]
    },
    {
      "cell_type": "code",
      "execution_count": 145,
      "id": "6921fc78",
      "metadata": {
        "id": "6921fc78",
        "outputId": "180180c3-0be2-4a1b-e7aa-25ea0baf6dd9",
        "colab": {
          "base_uri": "https://localhost:8080/"
        }
      },
      "outputs": [
        {
          "output_type": "stream",
          "name": "stdout",
          "text": [
            "              precision    recall  f1-score   support\n",
            "\n",
            "           0       0.96      0.83      0.89      1414\n",
            "           1       0.48      0.80      0.60       275\n",
            "\n",
            "    accuracy                           0.82      1689\n",
            "   macro avg       0.72      0.82      0.74      1689\n",
            "weighted avg       0.88      0.82      0.84      1689\n",
            "\n"
          ]
        }
      ],
      "source": [
        "print(classification_report(y_test, y_pred_test))"
      ]
    },
    {
      "cell_type": "markdown",
      "id": "8965c843",
      "metadata": {
        "id": "8965c843"
      },
      "source": [
        "### Plotting ROC curve\n",
        "\n",
        "The Receiver Operating Characteristic (ROC) curve and the Area Under the Curve (AUC) are important tools for evaluating the performance of a binary classification model like our logistic regression for churn prediction.\n",
        "\n",
        "**The ROC curve** is a graph showing the performance of a classification model at all classification thresholds. It plots two parameters:\n",
        "\n",
        "1. True Positive Rate (TPR) or Recall: TP / (TP + FN)\n",
        "2. False Positive Rate (FPR): FP / (FP + TN)\n"
      ]
    },
    {
      "cell_type": "code",
      "execution_count": 146,
      "id": "8f479488",
      "metadata": {
        "id": "8f479488",
        "outputId": "8f1d2b65-ad66-46ee-8dcd-e6ccfefa7e20",
        "colab": {
          "base_uri": "https://localhost:8080/",
          "height": 578
        }
      },
      "outputs": [
        {
          "output_type": "display_data",
          "data": {
            "text/plain": [
              "<Figure size 800x600 with 1 Axes>"
            ],
            "image/png": "[encoded data removed]"
          },
          "metadata": {}
        }
      ],
      "source": [
        "from sklearn.metrics import roc_curve, auc\n",
        "import matplotlib.pyplot as plt\n",
        "\n",
        "# Get the predicted probabilities for the positive class\n",
        "y_pred_proba = pipeline.predict_proba(X_test)[:, 1]\n",
        "\n",
        "# Calculate the false positive rate, true positive rate, and thresholds\n",
        "fpr, tpr, thresholds = roc_curve(y_test, y_pred_proba)\n",
        "\n",
        "# Calculate the AUC\n",
        "roc_auc = auc(fpr, tpr)\n",
        "\n",
        "# Plot the ROC curve\n",
        "plt.figure(figsize=(8, 6))\n",
        "plt.plot(fpr, tpr, color='darkorange', lw=2, label=f'ROC curve (AUC = {roc_auc:.2f})')\n",
        "plt.plot([0, 1], [0, 1], color='navy', lw=2, linestyle='--')\n",
        "plt.xlim([0.0, 1.0])\n",
        "plt.ylim([0.0, 1.05])\n",
        "plt.xlabel('False Positive Rate')\n",
        "plt.ylabel('True Positive Rate')\n",
        "plt.title('Receiver Operating Characteristic (ROC) Curve')\n",
        "plt.legend(loc=\"lower right\")\n",
        "plt.show()\n"
      ]
    },
    {
      "cell_type": "markdown",
      "id": "a4ee1c35",
      "metadata": {
        "id": "a4ee1c35"
      },
      "source": [
        "\n",
        "### Feature Engineering - Adding new variables\n",
        "\n",
        "Let's create new variable to increese accurancy of linear regression"
      ]
    },
    {
      "cell_type": "code",
      "execution_count": 122,
      "id": "cc3ec3e6",
      "metadata": {
        "id": "cc3ec3e6"
      },
      "outputs": [],
      "source": [
        "df_new_features = df.copy()\n",
        "df_new_features['cashback_per_order'] = df['CashbackAmount'] / df['OrderCount']\n",
        "df_new_features['avg_hour_spend_on_app_per_order'] = df['HourSpendOnApp'] / df['OrderCount']\n",
        "df_new_features['satisfaction_score_after_complain'] = df['Complain'] * df['SatisfactionScore']\n",
        "df_new_features['satisfaction_score_2'] = df['SatisfactionScore'] * df['Complain']\n",
        "df_new_features['tenure_2'] =  df['Tenure'] * df['Tenure']\n",
        "df_new_features['tenure_3'] =  df['Tenure'] * df['Tenure'] * df['Tenure']\n",
        "df_new_features['cashback_amount_per_month'] = df['CashbackAmount']/ (df['Tenure'] + 1)\n",
        "df_new_features['DaySinceLastOrder_2'] = df['DaySinceLastOrder'] * df['DaySinceLastOrder']\n",
        "df_new_features['cashback_amount_per_month_2'] = df['cashback_amount_per_month'] * df['cashback_amount_per_month']"
      ]
    },
    {
      "cell_type": "markdown",
      "id": "718ff88a",
      "metadata": {
        "id": "718ff88a"
      },
      "source": [
        "### Feature selection"
      ]
    },
    {
      "cell_type": "markdown",
      "id": "81e7b174",
      "metadata": {
        "id": "81e7b174"
      },
      "source": [
        "Let's find correlation between all features and Churn"
      ]
    },
    {
      "cell_type": "code",
      "execution_count": 123,
      "id": "e03805d6",
      "metadata": {
        "id": "e03805d6",
        "outputId": "6937e435-197d-4817-e924-5cf36db378c1",
        "colab": {
          "base_uri": "https://localhost:8080/",
          "height": 904
        }
      },
      "outputs": [
        {
          "output_type": "execute_result",
          "data": {
            "text/plain": [
              "Text(0.5, 1.0, 'Relation Between Features and target')"
            ]
          },
          "metadata": {},
          "execution_count": 123
        },
        {
          "output_type": "display_data",
          "data": {
            "text/plain": [
              "<Figure size 1000x1000 with 1 Axes>"
            ],
            "image/png": "[encoded data removed]"
          },
          "metadata": {}
        }
      ],
      "source": [
        "import matplotlib.pyplot as plt\n",
        "import seaborn as sns\n",
        "\n",
        "corr_matrix = df_new_features.select_dtypes([\"int64\", \"float64\"]).corr()\n",
        "churn_corr_vector = corr_matrix['Churn'].sort_values(ascending = False)\n",
        "churn_corr_vector = churn_corr_vector[1:]\n",
        "plt.figure(figsize = (10,10))\n",
        "sns.barplot(x = churn_corr_vector, y = churn_corr_vector.index, hue = churn_corr_vector.index, palette = 'coolwarm', legend=False)\n",
        "plt.title('Relation Between Features and target')"
      ]
    },
    {
      "cell_type": "code",
      "execution_count": 124,
      "id": "6f6ec12a",
      "metadata": {
        "id": "6f6ec12a",
        "outputId": "acb0f088-44aa-4727-d670-ad7044b0e045",
        "colab": {
          "base_uri": "https://localhost:8080/"
        }
      },
      "outputs": [
        {
          "output_type": "execute_result",
          "data": {
            "text/plain": [
              "29"
            ]
          },
          "metadata": {},
          "execution_count": 124
        }
      ],
      "source": [
        "df.shape[1]"
      ]
    },
    {
      "cell_type": "markdown",
      "id": "e2e5be3b",
      "metadata": {
        "id": "e2e5be3b"
      },
      "source": [
        "### 6. Logistic Regression with Feature Selection Model Building and Evaluation"
      ]
    },
    {
      "cell_type": "code",
      "execution_count": 127,
      "id": "4b66bf67",
      "metadata": {
        "scrolled": true,
        "id": "4b66bf67",
        "outputId": "aebf374c-40ef-4f6d-ab77-2ed4bb2a71ed",
        "colab": {
          "base_uri": "https://localhost:8080/",
          "height": 463
        }
      },
      "outputs": [
        {
          "output_type": "stream",
          "name": "stdout",
          "text": [
            "Logistic Regression with Feature Selection\n",
            "Accuracy on test set: 0.84618%\n",
            "Accuracy on train set: 0.85968%\n"
          ]
        },
        {
          "output_type": "display_data",
          "data": {
            "text/plain": [
              "<Figure size 2000x600 with 4 Axes>"
            ],
            "image/png": "[encoded data removed]"
          },
          "metadata": {}
        }
      ],
      "source": [
        "# prepare X and y\n",
        "y = df_new_features[\"Churn\"]\n",
        "X = df_new_features.drop(columns=[\"Churn\"])\n",
        "num_columns = X.select_dtypes([\"int64\", \"float64\"]).columns\n",
        "pipline_num = Pipeline(steps=[('imputer', SimpleImputer(strategy=\"median\")), ('scaler', StandardScaler())])\n",
        "\n",
        "cat_columns = df_new_features.select_dtypes(\"object\").columns\n",
        "pipline_cat = Pipeline(steps=[('encoding', OneHotEncoder())])\n",
        "\n",
        "transformer = ColumnTransformer(\n",
        "    transformers=[('categorical_col', pipline_cat, cat_columns),\n",
        "                  ('numerical_col', pipline_num, num_columns)]\n",
        "    )\n",
        "\n",
        "test_size = 0.5\n",
        "\n",
        "# prpeare training and testing data\n",
        "X_train, X_test, y_train, y_test = train_test_split(X, Y, test_size=test_size, random_state=42)\n",
        "pipeline = ImbPipeline([\n",
        "          ('transformer', transformer),\n",
        "          ('resampler', resampler),\n",
        "          ('classifier', LogisticRegression(max_iter=10_000, random_state=RANDOM_STATE))\n",
        "      ])\n",
        "pipeline.fit(X_train, y_train)\n",
        "\n",
        "# calculate the testing data accuracy and confusion matix\n",
        "y_pred_test = pipeline.predict(X_test)\n",
        "#Calculate accuracy\n",
        "\n",
        "print(\"Logistic Regression with Feature Selection\")\n",
        "print(f\"Accuracy on test set: {pipeline.score(X_test, y_test):0.5}%\")\n",
        "#confusion matrix test Data\n",
        "cm_lr_test = confusion_matrix(y_test, y_pred_test)\n",
        "\n",
        "\n",
        "fig, ax =plt.subplots(1, 2, figsize=(20, 6))\n",
        "ax[0].set_title('Test Set')\n",
        "sns.heatmap(cm_lr_test, annot = True,fmt = 'd', cmap ='Blues', ax=ax[0])\n",
        "\n",
        "\n",
        "#Calculate accuracy\n",
        "y_pred = pipeline.predict(X_train)\n",
        "print(f\"Accuracy on train set: {pipeline.score(X_train, y_train):0.5}%\")\n",
        "cm_lr = confusion_matrix(y_train, y_pred)\n",
        "\n",
        "ax[1].set_title('Train Set')\n",
        "sns.heatmap(cm_lr,annot = True,fmt = 'd', cmap ='Greens', ax=ax[1])\n",
        "\n",
        "\n",
        "fig.show()"
      ]
    },
    {
      "cell_type": "code",
      "execution_count": 128,
      "id": "8fff12b4",
      "metadata": {
        "id": "8fff12b4",
        "outputId": "ec7b741d-832f-4aaf-a0f5-062128b3be31",
        "colab": {
          "base_uri": "https://localhost:8080/"
        }
      },
      "outputs": [
        {
          "output_type": "stream",
          "name": "stdout",
          "text": [
            "              precision    recall  f1-score   support\n",
            "\n",
            "           0       0.95      0.86      0.90      2369\n",
            "           1       0.51      0.78      0.62       446\n",
            "\n",
            "    accuracy                           0.85      2815\n",
            "   macro avg       0.73      0.82      0.76      2815\n",
            "weighted avg       0.88      0.85      0.86      2815\n",
            "\n"
          ]
        }
      ],
      "source": [
        "print(classification_report(y_test, y_pred_test))"
      ]
    },
    {
      "cell_type": "markdown",
      "id": "6d0b739f",
      "metadata": {
        "id": "6d0b739f"
      },
      "source": [
        "## 6. **Conclusion and Next Steps**\n",
        "\n",
        "### Summary of Results\n",
        "\n",
        "In this project, I built a customer churn prediction model using logistic regression. My model achieved an accuracy of 84,6% on the test set, which is a good starting point for predicting customer churn.\n",
        "\n",
        "Logistic regression was chosen for this study primarily for its simplicity and interpretability, making it an excellent tool for learning the fundamentals of binary classification and understanding the relationship between features and the target variable.\n",
        "\n",
        "### Interpretation\n",
        "\n",
        "An accuracy of 84,6% indicates that our model correctly predicts whether a customer will churn or not in 84,6% of cases. While this is a solid performance, there's still room for improvement. It's important to note that accuracy alone may not be sufficient to fully evaluate the model, especially if the dataset is imbalanced.\n",
        "\n",
        "### Limitations\n",
        "\n",
        "1. Logistic regression assumes a linear relationship between the features and the log-odds of the outcome, which may not always hold true in complex real-world scenarios.\n",
        "2. It may not capture complex, non-linear relationships in the data.\n",
        "3. The model's performance might be affected if there are strong correlations between independent variables.\n",
        "\n",
        "### Next Steps\n",
        "\n",
        "To improve the model and gain deeper insights, consider the following steps:\n",
        "\n",
        "1. **Hyperparameter Tuning**: Use techniques like grid search or random search to optimize the logistic regression model's hyperparameters.\n",
        "\n",
        "2. **Try Advanced Algorithms**: While logistic regression provides a good baseline, other algorithms could potentially yield better results for this classification task:\n",
        "   - Random Forest: Can capture non-linear relationships and handle feature interactions.\n",
        "   - Gradient Boosting Machines (e.g., XGBoost, LightGBM): Often provide state-of-the-art performance on many classification tasks.\n",
        "   - Support Vector Machines (SVM): Can be effective for both linear and non-linear classification.\n",
        "   - Neural Networks: Can capture complex patterns, especially with larger datasets.\n",
        "\n",
        "3. **Ensemble Methods**: Combine predictions from multiple models to improve overall performance.\n",
        "\n",
        "4. **Feature Importance Analysis**: Conduct a deeper analysis of feature importances to understand key drivers of churn.\n",
        "\n",
        "5. **Regular Model Updates**: Plan for periodic retraining of the model with new data to maintain its predictive power over time.\n",
        "\n",
        "By implementing these next steps, we can potentially improve the model's performance, gain deeper insights into customer churn, and develop a more robust predictive system."
      ]
    },
    {
      "cell_type": "code",
      "execution_count": null,
      "id": "0c52b5e1",
      "metadata": {
        "id": "0c52b5e1"
      },
      "outputs": [],
      "source": []
    }
  ],
  "metadata": {
    "kernelspec": {
      "display_name": "Python 3 (ipykernel)",
      "language": "python",
      "name": "python3"
    },
    "language_info": {
      "codemirror_mode": {
        "name": "ipython",
        "version": 3
      },
      "file_extension": ".py",
      "mimetype": "text/x-python",
      "name": "python",
      "nbconvert_exporter": "python",
      "pygments_lexer": "ipython3",
      "version": "3.11.2"
    },
    "colab": {
      "provenance": [],
      "include_colab_link": true
    }
  },
  "nbformat": 4,
  "nbformat_minor": 5
}